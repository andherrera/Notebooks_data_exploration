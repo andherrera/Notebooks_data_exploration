{
 "cells": [
  {
   "cell_type": "markdown",
   "metadata": {},
   "source": [
    "<h1>How can we control the increasing number of accidents in New York?</h1>"
   ]
  },
  {
   "cell_type": "markdown",
   "metadata": {},
   "source": [
    "**Analysis by Andres Mauricio Herrera Alvarez**"
   ]
  },
  {
   "cell_type": "code",
   "execution_count": 1,
   "metadata": {},
   "outputs": [],
   "source": [
    "import json\n",
    "import requests\n",
    "from bs4 import BeautifulSoup\n",
    "import pandas as pd\n",
    "import matplotlib.pyplot as plt\n",
    "import seaborn as sns\n",
    "import numpy"
   ]
  },
  {
   "cell_type": "markdown",
   "metadata": {},
   "source": [
    "<h2>Introduction</h2>"
   ]
  },
  {
   "cell_type": "markdown",
   "metadata": {},
   "source": [
    "<p><strong>Business Context.</strong> The city of New York has seen a rise in the number of accidents on the roads in the city. They would like to know if the number of accidents have increased in the last few weeks. For all the reported accidents, they have collected details for each accident and have been maintaining records for the past year and a half (from January 2018 to August 2019). </p>\n",
    "<p>The city has contracted you to build visualizations that would help them identify patterns in accidents, which would help them take preventive actions to reduce the number of accidents in the future. They have certain parameters like borough, time of day, reason for accident, etc. Which they care about and which they would like to get specific information on.</p>"
   ]
  },
  {
   "cell_type": "markdown",
   "metadata": {},
   "source": [
    "<p><strong>Business Problem.</strong> Your task is to format the given data and provide visualizations that would answer the specific questions the client has, which are mentioned below.</p>"
   ]
  },
  {
   "cell_type": "markdown",
   "metadata": {},
   "source": [
    "<p><strong>Analytical Context.</strong> You are given a CSV file (stored in the already created <code>data</code> folder) containing details about each accident like date, time, location of the accident, reason for the accident, types of vehicles involved, injury and death count, etc. The delimiter in the given CSV file is <code>;</code> instead of the default <code>,</code>. You will be performing the following tasks on the data:</p>\n",
    "<ol>\n",
    "<li>Extract additional borough data stored in a JSON file</li>\n",
    "<li>Read, transform, and prepare data for visualization</li>\n",
    "<li>Perform analytics and construct visualizations of the data to identify patterns in the dataset</li>\n",
    "</ol>\n",
    "<p>The client has a specific set of questions they would like to get answers to. You will need to provide visualizations to accompany these:</p>\n",
    "<ol>\n",
    "<li>How have the number of accidents fluctuated over the past year and a half? Have they increased over the time?</li>\n",
    "<li>For any particular day, during which hours are accidents most likely to occur?</li>\n",
    "<li>Are there more accidents on weekdays than weekends?</li>\n",
    "<li>What are the accidents count-to-area ratio per borough? Which boroughs have disproportionately large numbers of accidents for their size?</li>\n",
    "<li>For each borough, during which hours are accidents most likely to occur?</li>\n",
    "<li>What are the top 5 causes of accidents in the city? </li>\n",
    "<li>What types of vehicles are most involved in accidents per borough?</li>\n",
    "<li>What types of vehicles are most involved in deaths?</li>\n",
    "</ol>"
   ]
  },
  {
   "cell_type": "markdown",
   "metadata": {},
   "source": [
    "<h2>Fetching the relevant data</h2>"
   ]
  },
  {
   "cell_type": "markdown",
   "metadata": {},
   "source": [
    "<p>The client has requested analysis of the accidents-to-area ratio for boroughs. Borough data is stored in a JSON file in the <code>data</code> folder.</p>"
   ]
  },
  {
   "cell_type": "markdown",
   "metadata": {},
   "source": [
    "<h3>Question :</h3>\n",
    "<p>Use the function <code>json.load()</code> to load the file <code>borough_data.json</code> as a dictionary.</p>"
   ]
  },
  {
   "cell_type": "markdown",
   "metadata": {
    "tags": [
     "ans_st"
    ]
   },
   "source": [
    "**Answer.**"
   ]
  },
  {
   "cell_type": "code",
   "execution_count": 2,
   "metadata": {},
   "outputs": [
    {
     "name": "stdout",
     "output_type": "stream",
     "text": [
      "Started Reading JSON file\n",
      "Converting JSON encoded data into Python dictionary\n",
      "\n",
      "Decoded JSON Data From File\n",
      "the bronx : {'name': 'the bronx', 'population': 1471160.0, 'area': 42.1}\n",
      "brooklyn : {'name': 'brooklyn', 'population': 2648771.0, 'area': 70.82}\n",
      "manhattan : {'name': 'manhattan', 'population': 1664727.0, 'area': 22.83}\n",
      "queens : {'name': 'queens', 'population': 2358582.0, 'area': 108.53}\n",
      "staten island : {'name': 'staten island', 'population': 479458.0, 'area': 58.37}\n",
      "Done reading json file\n"
     ]
    }
   ],
   "source": [
    "print(\"Started Reading JSON file\")\n",
    "\n",
    "with open(\"data/borough_data.json\", \"r\") as read_file:\n",
    "    print(\"Converting JSON encoded data into Python dictionary\" + '\\n')\n",
    "    cities = json.load(read_file)\n",
    "\n",
    "    print(\"Decoded JSON Data From File\")\n",
    "    for key, value in cities.items():\n",
    "        print(key, \":\", value)\n",
    "    print(\"Done reading json file\")"
   ]
  },
  {
   "cell_type": "markdown",
   "metadata": {},
   "source": [
    "<h3>Question :</h3>\n",
    "<p>Similarly, use the pandas function <code>read_csv()</code> to load the file <code>accidents.csv</code> as a DataFrame. Name this DataFrame <code>df</code>. </p>"
   ]
  },
  {
   "cell_type": "markdown",
   "metadata": {
    "tags": [
     "ans_st"
    ]
   },
   "source": [
    "**Answer.**"
   ]
  },
  {
   "cell_type": "code",
   "execution_count": 3,
   "metadata": {},
   "outputs": [
    {
     "data": {
      "text/html": [
       "<div>\n",
       "<style scoped>\n",
       "    .dataframe tbody tr th:only-of-type {\n",
       "        vertical-align: middle;\n",
       "    }\n",
       "\n",
       "    .dataframe tbody tr th {\n",
       "        vertical-align: top;\n",
       "    }\n",
       "\n",
       "    .dataframe thead th {\n",
       "        text-align: right;\n",
       "    }\n",
       "</style>\n",
       "<table border=\"1\" class=\"dataframe\">\n",
       "  <thead>\n",
       "    <tr style=\"text-align: right;\">\n",
       "      <th></th>\n",
       "      <th>DATE</th>\n",
       "      <th>TIME</th>\n",
       "      <th>BOROUGH</th>\n",
       "      <th>ZIP CODE</th>\n",
       "      <th>LATITUDE</th>\n",
       "      <th>LONGITUDE</th>\n",
       "      <th>ON STREET NAME</th>\n",
       "      <th>NUMBER OF PEDESTRIANS INJURED</th>\n",
       "      <th>NUMBER OF PEDESTRIANS KILLED</th>\n",
       "      <th>NUMBER OF CYCLIST INJURED</th>\n",
       "      <th>...</th>\n",
       "      <th>CONTRIBUTING FACTOR VEHICLE 2</th>\n",
       "      <th>CONTRIBUTING FACTOR VEHICLE 3</th>\n",
       "      <th>CONTRIBUTING FACTOR VEHICLE 4</th>\n",
       "      <th>CONTRIBUTING FACTOR VEHICLE 5</th>\n",
       "      <th>COLLISION_ID</th>\n",
       "      <th>VEHICLE TYPE CODE 1</th>\n",
       "      <th>VEHICLE TYPE CODE 2</th>\n",
       "      <th>VEHICLE TYPE CODE 3</th>\n",
       "      <th>VEHICLE TYPE CODE 4</th>\n",
       "      <th>VEHICLE TYPE CODE 5</th>\n",
       "    </tr>\n",
       "  </thead>\n",
       "  <tbody>\n",
       "    <tr>\n",
       "      <th>0</th>\n",
       "      <td>09/26/2018</td>\n",
       "      <td>12:12</td>\n",
       "      <td>BRONX</td>\n",
       "      <td>10454.0</td>\n",
       "      <td>40.808987</td>\n",
       "      <td>-73.911316</td>\n",
       "      <td>NaN</td>\n",
       "      <td>0</td>\n",
       "      <td>0</td>\n",
       "      <td>0</td>\n",
       "      <td>...</td>\n",
       "      <td>NaN</td>\n",
       "      <td>NaN</td>\n",
       "      <td>NaN</td>\n",
       "      <td>NaN</td>\n",
       "      <td>3988123</td>\n",
       "      <td>Sedan</td>\n",
       "      <td>NaN</td>\n",
       "      <td>NaN</td>\n",
       "      <td>NaN</td>\n",
       "      <td>NaN</td>\n",
       "    </tr>\n",
       "    <tr>\n",
       "      <th>1</th>\n",
       "      <td>09/25/2018</td>\n",
       "      <td>16:30</td>\n",
       "      <td>BROOKLYN</td>\n",
       "      <td>11236.0</td>\n",
       "      <td>40.636005</td>\n",
       "      <td>-73.912510</td>\n",
       "      <td>FLATLANDS AVENUE</td>\n",
       "      <td>1</td>\n",
       "      <td>0</td>\n",
       "      <td>0</td>\n",
       "      <td>...</td>\n",
       "      <td>NaN</td>\n",
       "      <td>NaN</td>\n",
       "      <td>NaN</td>\n",
       "      <td>NaN</td>\n",
       "      <td>3987962</td>\n",
       "      <td>Sedan</td>\n",
       "      <td>NaN</td>\n",
       "      <td>NaN</td>\n",
       "      <td>NaN</td>\n",
       "      <td>NaN</td>\n",
       "    </tr>\n",
       "    <tr>\n",
       "      <th>2</th>\n",
       "      <td>08/22/2019</td>\n",
       "      <td>19:30</td>\n",
       "      <td>QUEENS</td>\n",
       "      <td>11101.0</td>\n",
       "      <td>40.755490</td>\n",
       "      <td>-73.939530</td>\n",
       "      <td>NaN</td>\n",
       "      <td>0</td>\n",
       "      <td>0</td>\n",
       "      <td>0</td>\n",
       "      <td>...</td>\n",
       "      <td>NaN</td>\n",
       "      <td>NaN</td>\n",
       "      <td>NaN</td>\n",
       "      <td>NaN</td>\n",
       "      <td>4193132</td>\n",
       "      <td>Sedan</td>\n",
       "      <td>NaN</td>\n",
       "      <td>NaN</td>\n",
       "      <td>NaN</td>\n",
       "      <td>NaN</td>\n",
       "    </tr>\n",
       "    <tr>\n",
       "      <th>3</th>\n",
       "      <td>09/23/2018</td>\n",
       "      <td>13:10</td>\n",
       "      <td>QUEENS</td>\n",
       "      <td>11367.0</td>\n",
       "      <td>NaN</td>\n",
       "      <td>NaN</td>\n",
       "      <td>MAIN STREET</td>\n",
       "      <td>0</td>\n",
       "      <td>0</td>\n",
       "      <td>1</td>\n",
       "      <td>...</td>\n",
       "      <td>Unspecified</td>\n",
       "      <td>NaN</td>\n",
       "      <td>NaN</td>\n",
       "      <td>NaN</td>\n",
       "      <td>3985962</td>\n",
       "      <td>Bike</td>\n",
       "      <td>Station Wagon/Sport Utility Vehicle</td>\n",
       "      <td>NaN</td>\n",
       "      <td>NaN</td>\n",
       "      <td>NaN</td>\n",
       "    </tr>\n",
       "    <tr>\n",
       "      <th>4</th>\n",
       "      <td>08/20/2019</td>\n",
       "      <td>22:40</td>\n",
       "      <td>BRONX</td>\n",
       "      <td>10468.0</td>\n",
       "      <td>40.868336</td>\n",
       "      <td>-73.901270</td>\n",
       "      <td>NaN</td>\n",
       "      <td>0</td>\n",
       "      <td>0</td>\n",
       "      <td>0</td>\n",
       "      <td>...</td>\n",
       "      <td>Unspecified</td>\n",
       "      <td>NaN</td>\n",
       "      <td>NaN</td>\n",
       "      <td>NaN</td>\n",
       "      <td>4192111</td>\n",
       "      <td>Sedan</td>\n",
       "      <td>Sedan</td>\n",
       "      <td>NaN</td>\n",
       "      <td>NaN</td>\n",
       "      <td>NaN</td>\n",
       "    </tr>\n",
       "  </tbody>\n",
       "</table>\n",
       "<p>5 rows × 24 columns</p>\n",
       "</div>"
      ],
      "text/plain": [
       "         DATE   TIME   BOROUGH  ZIP CODE   LATITUDE  LONGITUDE  \\\n",
       "0  09/26/2018  12:12     BRONX   10454.0  40.808987 -73.911316   \n",
       "1  09/25/2018  16:30  BROOKLYN   11236.0  40.636005 -73.912510   \n",
       "2  08/22/2019  19:30    QUEENS   11101.0  40.755490 -73.939530   \n",
       "3  09/23/2018  13:10    QUEENS   11367.0        NaN        NaN   \n",
       "4  08/20/2019  22:40     BRONX   10468.0  40.868336 -73.901270   \n",
       "\n",
       "                     ON STREET NAME  NUMBER OF PEDESTRIANS INJURED  \\\n",
       "0                               NaN                              0   \n",
       "1  FLATLANDS AVENUE                                              1   \n",
       "2                               NaN                              0   \n",
       "3  MAIN STREET                                                   0   \n",
       "4                               NaN                              0   \n",
       "\n",
       "   NUMBER OF PEDESTRIANS KILLED  NUMBER OF CYCLIST INJURED  \\\n",
       "0                             0                          0   \n",
       "1                             0                          0   \n",
       "2                             0                          0   \n",
       "3                             0                          1   \n",
       "4                             0                          0   \n",
       "\n",
       "          ...          CONTRIBUTING FACTOR VEHICLE 2  \\\n",
       "0         ...                                    NaN   \n",
       "1         ...                                    NaN   \n",
       "2         ...                                    NaN   \n",
       "3         ...                            Unspecified   \n",
       "4         ...                            Unspecified   \n",
       "\n",
       "   CONTRIBUTING FACTOR VEHICLE 3  CONTRIBUTING FACTOR VEHICLE 4  \\\n",
       "0                            NaN                            NaN   \n",
       "1                            NaN                            NaN   \n",
       "2                            NaN                            NaN   \n",
       "3                            NaN                            NaN   \n",
       "4                            NaN                            NaN   \n",
       "\n",
       "  CONTRIBUTING FACTOR VEHICLE 5 COLLISION_ID VEHICLE TYPE CODE 1  \\\n",
       "0                           NaN      3988123               Sedan   \n",
       "1                           NaN      3987962               Sedan   \n",
       "2                           NaN      4193132               Sedan   \n",
       "3                           NaN      3985962                Bike   \n",
       "4                           NaN      4192111               Sedan   \n",
       "\n",
       "                   VEHICLE TYPE CODE 2 VEHICLE TYPE CODE 3  \\\n",
       "0                                  NaN                 NaN   \n",
       "1                                  NaN                 NaN   \n",
       "2                                  NaN                 NaN   \n",
       "3  Station Wagon/Sport Utility Vehicle                 NaN   \n",
       "4                                Sedan                 NaN   \n",
       "\n",
       "   VEHICLE TYPE CODE 4 VEHICLE TYPE CODE 5  \n",
       "0                  NaN                 NaN  \n",
       "1                  NaN                 NaN  \n",
       "2                  NaN                 NaN  \n",
       "3                  NaN                 NaN  \n",
       "4                  NaN                 NaN  \n",
       "\n",
       "[5 rows x 24 columns]"
      ]
     },
     "execution_count": 3,
     "metadata": {},
     "output_type": "execute_result"
    }
   ],
   "source": [
    "df = pd.read_csv('data/accidents.csv', sep=\";\")\n",
    "df.head()"
   ]
  },
  {
   "cell_type": "markdown",
   "metadata": {},
   "source": [
    "<h2>Overview of the data</h2>"
   ]
  },
  {
   "cell_type": "markdown",
   "metadata": {},
   "source": [
    "<p>Let's go through the columns present in the dataframe:</p>"
   ]
  },
  {
   "cell_type": "code",
   "execution_count": 4,
   "metadata": {},
   "outputs": [
    {
     "data": {
      "text/plain": [
       "Index(['DATE', 'TIME', 'BOROUGH', 'ZIP CODE', 'LATITUDE', 'LONGITUDE',\n",
       "       'ON STREET NAME', 'NUMBER OF PEDESTRIANS INJURED',\n",
       "       'NUMBER OF PEDESTRIANS KILLED', 'NUMBER OF CYCLIST INJURED',\n",
       "       'NUMBER OF CYCLIST KILLED', 'NUMBER OF MOTORIST INJURED',\n",
       "       'NUMBER OF MOTORIST KILLED', 'CONTRIBUTING FACTOR VEHICLE 1',\n",
       "       'CONTRIBUTING FACTOR VEHICLE 2', 'CONTRIBUTING FACTOR VEHICLE 3',\n",
       "       'CONTRIBUTING FACTOR VEHICLE 4', 'CONTRIBUTING FACTOR VEHICLE 5',\n",
       "       'COLLISION_ID', 'VEHICLE TYPE CODE 1', 'VEHICLE TYPE CODE 2',\n",
       "       'VEHICLE TYPE CODE 3', 'VEHICLE TYPE CODE 4', 'VEHICLE TYPE CODE 5'],\n",
       "      dtype='object')"
      ]
     },
     "execution_count": 4,
     "metadata": {},
     "output_type": "execute_result"
    }
   ],
   "source": [
    "df.columns"
   ]
  },
  {
   "cell_type": "markdown",
   "metadata": {},
   "source": [
    "<p>We have the following columns</p>\n",
    "<ol>\n",
    "<li><strong>BOROUGH</strong>: The borough in which the accident occured</li>\n",
    "<li><strong>COLLISION_ID</strong>: A unique identifier for this collision</li>\n",
    "<li><strong>CONTRIBUTING FACTOR VEHICLE (1, 2, 3, 4, 5)</strong>: Reasons for the accident</li>\n",
    "<li><strong>CROSS STREET NAME</strong>: Nearest cross street to the place of accidents</li>\n",
    "<li><strong>DATE</strong>: Date of the accident</li>\n",
    "<li><strong>TIME</strong>: Time of accident</li>\n",
    "<li><strong>LATITUDE</strong>: Latitude of the accident</li>\n",
    "<li><strong>LONGITUDE</strong>: Longitude of the accident</li>\n",
    "<li><strong>NUMBER OF (CYCLISTS, MOTORISTS, PEDESTRIANS) INJURED</strong>: Category wise injury</li>\n",
    "<li><strong>NUMBER OF (CYCLISTS, MOTORISTS, PEDESTRIANS) KILLED</strong>: Category wise death</li>\n",
    "<li><strong>ON STREET NAME</strong>: Street where the accident occured</li>\n",
    "<li><strong>VEHICLE TYPE CODE (1, 2, 3, 4, 5)</strong>: Types of vehicles involved in the accident</li>\n",
    "<li><strong>ZIP CODE</strong>: zip code of the accident location</li>\n",
    "</ol>"
   ]
  },
  {
   "cell_type": "markdown",
   "metadata": {},
   "source": [
    "<h3>Exercise 1 :</h3>\n",
    "<p>Since 2014, New York City has been implementing a road safety plan named <a href=\"https://www1.nyc.gov/content/visionzero/pages/\">Vision Zero</a>. It aims to reduce the number of traffic deaths to <em>zero</em> by the end of 2024. The plan is creating new and enhancing current safety measures, some of these include:</p>\n",
    "<ul>\n",
    "<li>[] Automated pedestrian detection</li>\n",
    "<li>[X] Road safety audits at high risk locations</li>\n",
    "<li>[] Expansion in the cycle track network</li>\n",
    "<li>[X] Targeted education and awareness initiatives</li>\n",
    "<li>[X] Creation of pedestrian refuge islands</li>\n",
    "<li>[X] Launch Integrated Data-Driven Speed Reducer Program (speed humps &amp; speed cushions)</li>\n",
    "</ul>\n",
    "<p>Which of these initiatives could directly benefit from an analysis of the data provided? Check all that apply.</p>\n",
    "<p><strong>Note:</strong> You can create check marks by double-clicking this cell and adding an <code>[x]</code> in the corresponding lines. </p>"
   ]
  },
  {
   "cell_type": "markdown",
   "metadata": {
    "tags": [
     "ans_st"
    ]
   },
   "source": [
    "**Answer.**"
   ]
  },
  {
   "cell_type": "markdown",
   "metadata": {},
   "source": [
    "From the analysis of the data we could develop safety plans for a particular city and month, thus creating more pedetrian refuge islands and speed humps in high risk locations"
   ]
  },
  {
   "cell_type": "markdown",
   "metadata": {},
   "source": [
    "<p>Let's go ahead and answer each of the client's questions.</p>"
   ]
  },
  {
   "cell_type": "markdown",
   "metadata": {},
   "source": [
    "<h2>Answering the client's questions</h2>"
   ]
  },
  {
   "cell_type": "markdown",
   "metadata": {},
   "source": [
    "<h3>Exercise 2 :</h3>\n",
    "<p>Group the available data on a monthly basis and generate a line plot of accidents over time. Has the number of accidents increased over the past year and a half?</p>\n",
    "<p><strong>Hint</strong>: You may find the pandas functions <code>to_datetime()</code> and <code>dt.to_period()</code> useful.</p>"
   ]
  },
  {
   "cell_type": "markdown",
   "metadata": {
    "tags": [
     "ans_st"
    ]
   },
   "source": [
    "**Answer.**"
   ]
  },
  {
   "cell_type": "code",
   "execution_count": 5,
   "metadata": {},
   "outputs": [
    {
     "name": "stdout",
     "output_type": "stream",
     "text": [
      "CPU times: user 30.5 s, sys: 49.8 ms, total: 30.6 s\n",
      "Wall time: 30.6 s\n"
     ]
    }
   ],
   "source": [
    "%%time\n",
    "df[\"DATE\"] = pd.to_datetime(df[\"DATE\"])"
   ]
  },
  {
   "cell_type": "code",
   "execution_count": 6,
   "metadata": {
    "scrolled": true
   },
   "outputs": [
    {
     "data": {
      "text/html": [
       "<div>\n",
       "<style scoped>\n",
       "    .dataframe tbody tr th:only-of-type {\n",
       "        vertical-align: middle;\n",
       "    }\n",
       "\n",
       "    .dataframe tbody tr th {\n",
       "        vertical-align: top;\n",
       "    }\n",
       "\n",
       "    .dataframe thead th {\n",
       "        text-align: right;\n",
       "    }\n",
       "</style>\n",
       "<table border=\"1\" class=\"dataframe\">\n",
       "  <thead>\n",
       "    <tr style=\"text-align: right;\">\n",
       "      <th></th>\n",
       "      <th>DATE</th>\n",
       "      <th>TIME</th>\n",
       "      <th>BOROUGH</th>\n",
       "      <th>ZIP CODE</th>\n",
       "      <th>LATITUDE</th>\n",
       "      <th>LONGITUDE</th>\n",
       "      <th>ON STREET NAME</th>\n",
       "      <th>NUMBER OF PEDESTRIANS INJURED</th>\n",
       "      <th>NUMBER OF PEDESTRIANS KILLED</th>\n",
       "      <th>NUMBER OF CYCLIST INJURED</th>\n",
       "      <th>...</th>\n",
       "      <th>CONTRIBUTING FACTOR VEHICLE 2</th>\n",
       "      <th>CONTRIBUTING FACTOR VEHICLE 3</th>\n",
       "      <th>CONTRIBUTING FACTOR VEHICLE 4</th>\n",
       "      <th>CONTRIBUTING FACTOR VEHICLE 5</th>\n",
       "      <th>COLLISION_ID</th>\n",
       "      <th>VEHICLE TYPE CODE 1</th>\n",
       "      <th>VEHICLE TYPE CODE 2</th>\n",
       "      <th>VEHICLE TYPE CODE 3</th>\n",
       "      <th>VEHICLE TYPE CODE 4</th>\n",
       "      <th>VEHICLE TYPE CODE 5</th>\n",
       "    </tr>\n",
       "  </thead>\n",
       "  <tbody>\n",
       "    <tr>\n",
       "      <th>237229</th>\n",
       "      <td>2018-01-01</td>\n",
       "      <td>19:30</td>\n",
       "      <td>QUEENS</td>\n",
       "      <td>11432.0</td>\n",
       "      <td>40.708410</td>\n",
       "      <td>-73.80328</td>\n",
       "      <td>PARSONS BOULEVARD</td>\n",
       "      <td>0</td>\n",
       "      <td>0</td>\n",
       "      <td>0</td>\n",
       "      <td>...</td>\n",
       "      <td>Unspecified</td>\n",
       "      <td>NaN</td>\n",
       "      <td>NaN</td>\n",
       "      <td>NaN</td>\n",
       "      <td>3820560</td>\n",
       "      <td>PASSENGER VEHICLE</td>\n",
       "      <td>TAXI</td>\n",
       "      <td>NaN</td>\n",
       "      <td>NaN</td>\n",
       "      <td>NaN</td>\n",
       "    </tr>\n",
       "    <tr>\n",
       "      <th>230620</th>\n",
       "      <td>2018-01-01</td>\n",
       "      <td>4:00</td>\n",
       "      <td>BROOKLYN</td>\n",
       "      <td>11212.0</td>\n",
       "      <td>40.659330</td>\n",
       "      <td>-73.92027</td>\n",
       "      <td>NaN</td>\n",
       "      <td>0</td>\n",
       "      <td>0</td>\n",
       "      <td>0</td>\n",
       "      <td>...</td>\n",
       "      <td>Unspecified</td>\n",
       "      <td>NaN</td>\n",
       "      <td>NaN</td>\n",
       "      <td>NaN</td>\n",
       "      <td>3821032</td>\n",
       "      <td>SPORT UTILITY / STATION WAGON</td>\n",
       "      <td>PASSENGER VEHICLE</td>\n",
       "      <td>NaN</td>\n",
       "      <td>NaN</td>\n",
       "      <td>NaN</td>\n",
       "    </tr>\n",
       "    <tr>\n",
       "      <th>235340</th>\n",
       "      <td>2018-01-01</td>\n",
       "      <td>13:30</td>\n",
       "      <td>QUEENS</td>\n",
       "      <td>11372.0</td>\n",
       "      <td>40.747734</td>\n",
       "      <td>-73.88300</td>\n",
       "      <td>83 STREET</td>\n",
       "      <td>0</td>\n",
       "      <td>0</td>\n",
       "      <td>0</td>\n",
       "      <td>...</td>\n",
       "      <td>NaN</td>\n",
       "      <td>NaN</td>\n",
       "      <td>NaN</td>\n",
       "      <td>NaN</td>\n",
       "      <td>3821647</td>\n",
       "      <td>PASSENGER VEHICLE</td>\n",
       "      <td>NaN</td>\n",
       "      <td>NaN</td>\n",
       "      <td>NaN</td>\n",
       "      <td>NaN</td>\n",
       "    </tr>\n",
       "    <tr>\n",
       "      <th>230632</th>\n",
       "      <td>2018-01-01</td>\n",
       "      <td>21:30</td>\n",
       "      <td>BROOKLYN</td>\n",
       "      <td>11234.0</td>\n",
       "      <td>40.619130</td>\n",
       "      <td>-73.92398</td>\n",
       "      <td>EAST 53 STREET</td>\n",
       "      <td>1</td>\n",
       "      <td>0</td>\n",
       "      <td>0</td>\n",
       "      <td>...</td>\n",
       "      <td>NaN</td>\n",
       "      <td>NaN</td>\n",
       "      <td>NaN</td>\n",
       "      <td>NaN</td>\n",
       "      <td>3821772</td>\n",
       "      <td>NaN</td>\n",
       "      <td>NaN</td>\n",
       "      <td>NaN</td>\n",
       "      <td>NaN</td>\n",
       "      <td>NaN</td>\n",
       "    </tr>\n",
       "    <tr>\n",
       "      <th>228737</th>\n",
       "      <td>2018-01-01</td>\n",
       "      <td>17:36</td>\n",
       "      <td>QUEENS</td>\n",
       "      <td>11417.0</td>\n",
       "      <td>40.675060</td>\n",
       "      <td>-73.85148</td>\n",
       "      <td>PITKIN AVENUE</td>\n",
       "      <td>0</td>\n",
       "      <td>0</td>\n",
       "      <td>0</td>\n",
       "      <td>...</td>\n",
       "      <td>Unspecified</td>\n",
       "      <td>NaN</td>\n",
       "      <td>NaN</td>\n",
       "      <td>NaN</td>\n",
       "      <td>3819065</td>\n",
       "      <td>PASSENGER VEHICLE</td>\n",
       "      <td>PASSENGER VEHICLE</td>\n",
       "      <td>NaN</td>\n",
       "      <td>NaN</td>\n",
       "      <td>NaN</td>\n",
       "    </tr>\n",
       "  </tbody>\n",
       "</table>\n",
       "<p>5 rows × 24 columns</p>\n",
       "</div>"
      ],
      "text/plain": [
       "             DATE   TIME   BOROUGH  ZIP CODE   LATITUDE  LONGITUDE  \\\n",
       "237229 2018-01-01  19:30    QUEENS   11432.0  40.708410  -73.80328   \n",
       "230620 2018-01-01   4:00  BROOKLYN   11212.0  40.659330  -73.92027   \n",
       "235340 2018-01-01  13:30    QUEENS   11372.0  40.747734  -73.88300   \n",
       "230632 2018-01-01  21:30  BROOKLYN   11234.0  40.619130  -73.92398   \n",
       "228737 2018-01-01  17:36    QUEENS   11417.0  40.675060  -73.85148   \n",
       "\n",
       "                          ON STREET NAME  NUMBER OF PEDESTRIANS INJURED  \\\n",
       "237229  PARSONS BOULEVARD                                             0   \n",
       "230620                               NaN                              0   \n",
       "235340  83 STREET                                                     0   \n",
       "230632  EAST 53 STREET                                                1   \n",
       "228737  PITKIN AVENUE                                                 0   \n",
       "\n",
       "        NUMBER OF PEDESTRIANS KILLED  NUMBER OF CYCLIST INJURED  \\\n",
       "237229                             0                          0   \n",
       "230620                             0                          0   \n",
       "235340                             0                          0   \n",
       "230632                             0                          0   \n",
       "228737                             0                          0   \n",
       "\n",
       "               ...          CONTRIBUTING FACTOR VEHICLE 2  \\\n",
       "237229         ...                            Unspecified   \n",
       "230620         ...                            Unspecified   \n",
       "235340         ...                                    NaN   \n",
       "230632         ...                                    NaN   \n",
       "228737         ...                            Unspecified   \n",
       "\n",
       "        CONTRIBUTING FACTOR VEHICLE 3  CONTRIBUTING FACTOR VEHICLE 4  \\\n",
       "237229                            NaN                            NaN   \n",
       "230620                            NaN                            NaN   \n",
       "235340                            NaN                            NaN   \n",
       "230632                            NaN                            NaN   \n",
       "228737                            NaN                            NaN   \n",
       "\n",
       "       CONTRIBUTING FACTOR VEHICLE 5 COLLISION_ID  \\\n",
       "237229                           NaN      3820560   \n",
       "230620                           NaN      3821032   \n",
       "235340                           NaN      3821647   \n",
       "230632                           NaN      3821772   \n",
       "228737                           NaN      3819065   \n",
       "\n",
       "                  VEHICLE TYPE CODE 1 VEHICLE TYPE CODE 2 VEHICLE TYPE CODE 3  \\\n",
       "237229              PASSENGER VEHICLE                TAXI                 NaN   \n",
       "230620  SPORT UTILITY / STATION WAGON   PASSENGER VEHICLE                 NaN   \n",
       "235340              PASSENGER VEHICLE                 NaN                 NaN   \n",
       "230632                            NaN                 NaN                 NaN   \n",
       "228737              PASSENGER VEHICLE   PASSENGER VEHICLE                 NaN   \n",
       "\n",
       "        VEHICLE TYPE CODE 4 VEHICLE TYPE CODE 5  \n",
       "237229                  NaN                 NaN  \n",
       "230620                  NaN                 NaN  \n",
       "235340                  NaN                 NaN  \n",
       "230632                  NaN                 NaN  \n",
       "228737                  NaN                 NaN  \n",
       "\n",
       "[5 rows x 24 columns]"
      ]
     },
     "execution_count": 6,
     "metadata": {},
     "output_type": "execute_result"
    }
   ],
   "source": [
    "df = df.sort_values(by=\"DATE\")\n",
    "df.head()"
   ]
  },
  {
   "cell_type": "code",
   "execution_count": 7,
   "metadata": {},
   "outputs": [
    {
     "data": {
      "text/plain": [
       "Text(0.5,1.02,'Distribution of Accidents')"
      ]
     },
     "execution_count": 7,
     "metadata": {},
     "output_type": "execute_result"
    },
    {
     "data": {
      "image/png": "[encoded data removed]",
      "text/plain": [
       "<Figure size 576x432 with 1 Axes>"
      ]
     },
     "metadata": {},
     "output_type": "display_data"
    }
   ],
   "source": [
    "import datetime as dt\n",
    "\n",
    "sns.set(font_scale=1.4)\n",
    "total_accidents = df['DATE'].groupby([df.DATE.dt.year, df.DATE.dt.month]).agg('count').plot(kind='line', figsize=(8, 6), linewidth=2.5, color='blue')\n",
    "plt.xlabel(\"Timeline\", labelpad=15)\n",
    "plt.ylabel(\"Accidents\", labelpad=15)\n",
    "plt.title(\"Distribution of Accidents\", y=1.02, fontsize=22)"
   ]
  },
  {
   "cell_type": "markdown",
   "metadata": {},
   "source": [
    "Data Exploration of injured and kills over time"
   ]
  },
  {
   "cell_type": "code",
   "execution_count": 8,
   "metadata": {},
   "outputs": [
    {
     "data": {
      "image/png": "[encoded data removed]",
      "text/plain": [
       "<Figure size 576x432 with 1 Axes>"
      ]
     },
     "metadata": {},
     "output_type": "display_data"
    },
    {
     "data": {
      "image/png": "[encoded data removed]",
      "text/plain": [
       "<Figure size 576x432 with 1 Axes>"
      ]
     },
     "metadata": {},
     "output_type": "display_data"
    },
    {
     "data": {
      "image/png": "[encoded data removed]",
      "text/plain": [
       "<Figure size 576x432 with 1 Axes>"
      ]
     },
     "metadata": {},
     "output_type": "display_data"
    },
    {
     "data": {
      "image/png": "[encoded data removed]",
      "text/plain": [
       "<Figure size 576x432 with 1 Axes>"
      ]
     },
     "metadata": {},
     "output_type": "display_data"
    },
    {
     "data": {
      "image/png": "[encoded data removed]",
      "text/plain": [
       "<Figure size 576x432 with 1 Axes>"
      ]
     },
     "metadata": {},
     "output_type": "display_data"
    },
    {
     "data": {
      "image/png": "[encoded data removed]",
      "text/plain": [
       "<Figure size 576x432 with 1 Axes>"
      ]
     },
     "metadata": {},
     "output_type": "display_data"
    }
   ],
   "source": [
    "#Total Number of Injured and Kills\n",
    "Accidents = ['NUMBER OF PEDESTRIANS INJURED','NUMBER OF PEDESTRIANS KILLED','NUMBER OF CYCLIST INJURED','NUMBER OF CYCLIST KILLED','NUMBER OF MOTORIST INJURED','NUMBER OF MOTORIST KILLED']\n",
    "for item in Accidents:\n",
    "    total_accidents = df[item].groupby([df.DATE.dt.year, df.DATE.dt.month]).sum().plot(kind='bar', figsize=(8, 6), linewidth=2.5, color='blue')\n",
    "    plt.xlabel(\"Timeline\", labelpad=6)\n",
    "    plt.ylabel(item, labelpad=6)\n",
    "    plt.title(item, y=1.02, fontsize=9)\n",
    "    plt.show()"
   ]
  },
  {
   "cell_type": "markdown",
   "metadata": {},
   "source": [
    "**ANSWER** - No comparing each month with the same as in the previous year we can say that the accidents for the year 2019 are less than in 2018"
   ]
  },
  {
   "cell_type": "markdown",
   "metadata": {},
   "source": [
    "<h3>Exercise 3 :</h3>\n",
    "<p>From the plot above, which months seem to have the least number of accidents? What do you think are the reasons behind this?</p>"
   ]
  },
  {
   "cell_type": "markdown",
   "metadata": {
    "tags": [
     "ans_st"
    ]
   },
   "source": [
    "**Answer.**"
   ]
  },
  {
   "cell_type": "markdown",
   "metadata": {},
   "source": [
    "The begining of each year January, february and march have less accidents than the overall, probably because it's winter in new york and during christmas period people are mostly in their homes "
   ]
  },
  {
   "cell_type": "markdown",
   "metadata": {},
   "source": [
    "<h3>Exercise 4 :</h3>\n",
    "<p>How does the number of accidents vary throughout a single day? Create a new column <code>HOUR</code> based on the data from the <code>TIME</code> column, then plot a bar graph of the distribution per hour throughout the day.</p>\n",
    "<p><strong>Hint:</strong> You may find the function <code>dt.hour</code> useful. </p>"
   ]
  },
  {
   "cell_type": "markdown",
   "metadata": {
    "tags": [
     "ans_st"
    ]
   },
   "source": [
    "**Answer.**"
   ]
  },
  {
   "cell_type": "code",
   "execution_count": 9,
   "metadata": {},
   "outputs": [
    {
     "data": {
      "image/png": "[encoded data removed]",
      "text/plain": [
       "<Figure size 576x432 with 1 Axes>"
      ]
     },
     "metadata": {},
     "output_type": "display_data"
    }
   ],
   "source": [
    "df[\"TIME\"] = pd.to_datetime(df[\"TIME\"])\n",
    "df['HOUR'] = df['TIME'].dt.hour\n",
    "total_accidents_daily = df['HOUR'].groupby(df['HOUR']).agg('count').plot(kind='bar', figsize=(8, 6), linewidth=2.5, color='blue')"
   ]
  },
  {
   "cell_type": "markdown",
   "metadata": {},
   "source": [
    "<p>From the above plot, we see that more accidents occur in the afternoon (2 - 6 PM) than at other times of day.</p>"
   ]
  },
  {
   "cell_type": "markdown",
   "metadata": {},
   "source": [
    "<h3>Exercise 5 :</h3>\n",
    "<p>In the above question we have aggregated the number accidents per hour disregarding the date and place of ocurrence. Which criticism would you give to this approach?</p>"
   ]
  },
  {
   "cell_type": "markdown",
   "metadata": {
    "tags": [
     "ans_st"
    ]
   },
   "source": [
    "**Answer.**"
   ]
  },
  {
   "cell_type": "markdown",
   "metadata": {},
   "source": [
    "The previous approach is biased because we are not taking into account place of occurence or date, thus in some cities the distribution of daily accidentes can be very different or depending of the month of the year the accidentes can also vary a lot, thus we can't be sure that during the period between 2 - 6 pm occured most of the accidents everywhere in order to suggest a particular safety plan."
   ]
  },
  {
   "cell_type": "markdown",
   "metadata": {},
   "source": [
    "<h3>Exercise 6 :</h3>\n",
    "<p>How does the number of accidents vary throughout a single week? Plot a bar graph based on the accidents count by day of the week.</p>\n",
    "<p><strong>Hint:</strong> You may find the function <code>dt.weekday</code> useful.</p>"
   ]
  },
  {
   "cell_type": "markdown",
   "metadata": {
    "tags": [
     "ans_st"
    ]
   },
   "source": [
    "**Answer.**"
   ]
  },
  {
   "cell_type": "code",
   "execution_count": 10,
   "metadata": {},
   "outputs": [
    {
     "data": {
      "text/plain": [
       "Text(0.5,1.02,'Distribution of Accidents')"
      ]
     },
     "execution_count": 10,
     "metadata": {},
     "output_type": "execute_result"
    },
    {
     "data": {
      "image/png": "[encoded data removed]",
      "text/plain": [
       "<Figure size 576x432 with 1 Axes>"
      ]
     },
     "metadata": {},
     "output_type": "display_data"
    }
   ],
   "source": [
    "sns.set(font_scale=1.4)\n",
    "total_accidents = df['DATE'].groupby([df.DATE.dt.weekday]).agg('count').plot(kind='bar', figsize=(8, 6), linewidth=2.5, color='blue')\n",
    "plt.xlabel(\"Weekday\", labelpad=15)\n",
    "plt.ylabel(\"Accidents\", labelpad=15)\n",
    "plt.title(\"Distribution of Accidents\", y=1.02, fontsize=22)"
   ]
  },
  {
   "cell_type": "markdown",
   "metadata": {},
   "source": [
    "We can see that sunday is the day of the week with less accidents "
   ]
  },
  {
   "cell_type": "markdown",
   "metadata": {},
   "source": [
    "<h3>Exercise 7 :</h3>\n",
    "<p>Plot a bar graph of the total number of accidents in each borough, as well as one of the accidents per square mile per borough. What can you conclude?</p>\n",
    "<p><strong>Hint:</strong> You may want to update some of the keys in the borough dictionary to match the names in the dataframe. </p>"
   ]
  },
  {
   "cell_type": "markdown",
   "metadata": {
    "tags": [
     "ans_st"
    ]
   },
   "source": [
    "**Answer.**"
   ]
  },
  {
   "cell_type": "code",
   "execution_count": 11,
   "metadata": {
    "scrolled": true
   },
   "outputs": [
    {
     "data": {
      "text/plain": [
       "Text(0.5,1.02,'Distribution of Accidents per borough')"
      ]
     },
     "execution_count": 11,
     "metadata": {},
     "output_type": "execute_result"
    },
    {
     "data": {
      "image/png": "[encoded data removed]",
      "text/plain": [
       "<Figure size 576x432 with 1 Axes>"
      ]
     },
     "metadata": {},
     "output_type": "display_data"
    }
   ],
   "source": [
    "sns.set(font_scale=1.8)\n",
    "total_accidents = df['BOROUGH'].groupby([df.BOROUGH]).agg('count').plot(kind='bar', figsize=(8, 6), linewidth=2.5, color='blue')\n",
    "plt.xlabel(\"BOROUGH\", labelpad=10)\n",
    "plt.ylabel(\"Accidents\", labelpad=10)\n",
    "plt.title(\"Distribution of Accidents per borough\", y=1.02, fontsize=22)"
   ]
  },
  {
   "cell_type": "code",
   "execution_count": 12,
   "metadata": {},
   "outputs": [
    {
     "data": {
      "text/plain": [
       "BOROUGH\n",
       "BRONX            37709\n",
       "BROOKLYN         76253\n",
       "MANHATTAN        48749\n",
       "QUEENS           67120\n",
       "STATEN ISLAND     8691\n",
       "Name: BOROUGH, dtype: int64"
      ]
     },
     "execution_count": 12,
     "metadata": {},
     "output_type": "execute_result"
    }
   ],
   "source": [
    "total_accidents = df['BOROUGH'].groupby([df.BOROUGH]).agg('count')\n",
    "total_accidents"
   ]
  },
  {
   "cell_type": "code",
   "execution_count": 13,
   "metadata": {},
   "outputs": [
    {
     "data": {
      "text/plain": [
       "array(['BRONX', 'BROOKLYN', 'MANHATTAN', 'QUEENS', 'STATEN ISLAND'], dtype=object)"
      ]
     },
     "execution_count": 13,
     "metadata": {},
     "output_type": "execute_result"
    }
   ],
   "source": [
    "total_accidents.index.values"
   ]
  },
  {
   "cell_type": "code",
   "execution_count": 14,
   "metadata": {},
   "outputs": [
    {
     "name": "stdout",
     "output_type": "stream",
     "text": [
      "42.1\n",
      "70.82\n",
      "22.83\n",
      "108.53\n",
      "58.37\n"
     ]
    }
   ],
   "source": [
    "for key, value in cities.items():\n",
    "    print(value['area'])"
   ]
  },
  {
   "cell_type": "code",
   "execution_count": 15,
   "metadata": {},
   "outputs": [
    {
     "data": {
      "text/plain": [
       "{'BRONX': {'name': 'the bronx', 'population': 1471160.0, 'area': 42.1},\n",
       " 'BROOKLYN': {'name': 'brooklyn', 'population': 2648771.0, 'area': 70.82},\n",
       " 'MANHATTAN': {'name': 'manhattan', 'population': 1664727.0, 'area': 22.83},\n",
       " 'QUEENS': {'name': 'queens', 'population': 2358582.0, 'area': 108.53},\n",
       " 'STATEN ISLAND': {'name': 'staten island',\n",
       "  'population': 479458.0,\n",
       "  'area': 58.37}}"
      ]
     },
     "execution_count": 15,
     "metadata": {},
     "output_type": "execute_result"
    }
   ],
   "source": [
    "#update dictionary\n",
    "cities['BRONX'] = cities.pop('the bronx')\n",
    "cities['BROOKLYN'] = cities.pop('brooklyn')\n",
    "cities['MANHATTAN'] = cities.pop('manhattan')\n",
    "cities['QUEENS'] = cities.pop('queens')\n",
    "cities['STATEN ISLAND'] = cities.pop('staten island')\n",
    "cities"
   ]
  },
  {
   "cell_type": "code",
   "execution_count": 16,
   "metadata": {},
   "outputs": [
    {
     "data": {
      "text/plain": [
       "BOROUGH\n",
       "BRONX             895\n",
       "BROOKLYN         1076\n",
       "MANHATTAN        2135\n",
       "QUEENS            618\n",
       "STATEN ISLAND     148\n",
       "Name: BOROUGH, dtype: int64"
      ]
     },
     "execution_count": 16,
     "metadata": {},
     "output_type": "execute_result"
    }
   ],
   "source": [
    "for val in total_accidents.index.values:\n",
    "    for key, value in cities.items():\n",
    "        if key == val:\n",
    "            total_accidents[val] = total_accidents[val]/value['area']\n",
    "\n",
    "total_accidents"
   ]
  },
  {
   "cell_type": "code",
   "execution_count": 17,
   "metadata": {
    "scrolled": false
   },
   "outputs": [
    {
     "data": {
      "text/plain": [
       "<matplotlib.axes._subplots.AxesSubplot at 0x7f067cf3d2e8>"
      ]
     },
     "execution_count": 17,
     "metadata": {},
     "output_type": "execute_result"
    },
    {
     "data": {
      "image/png": "[encoded data removed]",
      "text/plain": [
       "<Figure size 576x432 with 1 Axes>"
      ]
     },
     "metadata": {},
     "output_type": "display_data"
    }
   ],
   "source": [
    "total_accidents.plot(kind='bar', figsize=(8, 6), linewidth=2.5, color='blue')"
   ]
  },
  {
   "cell_type": "markdown",
   "metadata": {},
   "source": [
    "If we don't consider de area of each borough the place with the highest accidentallity is brookling but considering accidents per square mile we could see that manhatan is the highest, then taking as a parameter the area new findings can come up. "
   ]
  },
  {
   "cell_type": "markdown",
   "metadata": {},
   "source": [
    "<h3>Exercise 8 :</h3>\n",
    "<p>Which hours have the most accidents for each borough? Plot a bar graph for each borough showing the number of accidents for each hour of the day.</p>\n",
    "<p><strong>Hint:</strong> You can use <code>sns.FacetGrid</code> to create a grid of plots with the hourly data of each borough. </p>"
   ]
  },
  {
   "cell_type": "markdown",
   "metadata": {
    "tags": [
     "ans_st"
    ]
   },
   "source": [
    "**Answer.**"
   ]
  },
  {
   "cell_type": "code",
   "execution_count": 18,
   "metadata": {},
   "outputs": [
    {
     "name": "stderr",
     "output_type": "stream",
     "text": [
      "/opt/conda/lib/python3.6/site-packages/ipykernel_launcher.py:1: FutureWarning: using a dict on a Series for aggregation\n",
      "is deprecated and will be removed in a future version\n",
      "  \"\"\"Entry point for launching an IPython kernel.\n",
      "/opt/conda/lib/python3.6/site-packages/seaborn/axisgrid.py:230: UserWarning: The `size` paramter has been renamed to `height`; please update your code.\n",
      "  warnings.warn(msg, UserWarning)\n",
      "/opt/conda/lib/python3.6/site-packages/seaborn/axisgrid.py:715: UserWarning: Using the barplot function without specifying `order` is likely to produce an incorrect plot.\n",
      "  warnings.warn(warning)\n"
     ]
    },
    {
     "data": {
      "text/plain": [
       "<seaborn.axisgrid.FacetGrid at 0x7f067cfcfdd8>"
      ]
     },
     "execution_count": 18,
     "metadata": {},
     "output_type": "execute_result"
    },
    {
     "data": {
      "image/png": "[encoded data removed]",
      "text/plain": [
       "<Figure size 1296x1944 with 5 Axes>"
      ]
     },
     "metadata": {},
     "output_type": "display_data"
    }
   ],
   "source": [
    "total_accidents = pd.DataFrame(df['BOROUGH'].groupby([df.BOROUGH, df.HOUR]).agg({'accidents':'count'})).reset_index()\n",
    "total_accidents.columns = ['BOROUGH', 'HOUR', 'Accidents']\n",
    "sns.set(font_scale=1.5)\n",
    "g = sns.FacetGrid(total_accidents, col=\"BOROUGH\", col_wrap=2, size=9)\n",
    "g.map(sns.barplot, \"HOUR\", \"Accidents\")"
   ]
  },
  {
   "cell_type": "markdown",
   "metadata": {},
   "source": [
    "<p><strong>Is the number of accidents higher at different times in different boroughs? Should we concentrate at different times for each borough?</strong></p>"
   ]
  },
  {
   "cell_type": "markdown",
   "metadata": {},
   "source": [
    "<p>We can see that in all the boroughs the accident count is highest from approximately 2 - 6PM. But in Manhattan and the Bronx, you can see that there is not as much of a relative increase during these hours as in Brooklyn or Queens. Additionally, Staten Island has the lowest overall number of accidents.</p>"
   ]
  },
  {
   "cell_type": "markdown",
   "metadata": {},
   "source": [
    "<h3>Exercise 9 :</h3>\n",
    "<p>What factors cause the most accidents? Avoid double counting the contributing factors of a single accident. </p>\n",
    "<p><strong>Hint:</strong> One way of dealing with repetitions is to concatenate the corresponding columns while preserving their indexes, you can do that with the functions <code>pd.concat()</code> and  <code>reset_index()</code>. Then, use an appropiate <code>group_by</code> to count the number of repetitions of contributed factors per accident.   </p>"
   ]
  },
  {
   "cell_type": "markdown",
   "metadata": {
    "tags": [
     "ans_st"
    ]
   },
   "source": [
    "**Answer.**"
   ]
  },
  {
   "cell_type": "code",
   "execution_count": 19,
   "metadata": {},
   "outputs": [
    {
     "name": "stderr",
     "output_type": "stream",
     "text": [
      "/opt/conda/lib/python3.6/site-packages/ipykernel_launcher.py:5: FutureWarning: using a dict on a Series for aggregation\n",
      "is deprecated and will be removed in a future version\n",
      "  \"\"\"\n"
     ]
    },
    {
     "data": {
      "text/html": [
       "<div>\n",
       "<style scoped>\n",
       "    .dataframe tbody tr th:only-of-type {\n",
       "        vertical-align: middle;\n",
       "    }\n",
       "\n",
       "    .dataframe tbody tr th {\n",
       "        vertical-align: top;\n",
       "    }\n",
       "\n",
       "    .dataframe thead th {\n",
       "        text-align: right;\n",
       "    }\n",
       "</style>\n",
       "<table border=\"1\" class=\"dataframe\">\n",
       "  <thead>\n",
       "    <tr style=\"text-align: right;\">\n",
       "      <th></th>\n",
       "      <th>Factors</th>\n",
       "      <th>Total_Factors</th>\n",
       "    </tr>\n",
       "  </thead>\n",
       "  <tbody>\n",
       "    <tr>\n",
       "      <th>50</th>\n",
       "      <td>Unspecified</td>\n",
       "      <td>190096</td>\n",
       "    </tr>\n",
       "    <tr>\n",
       "      <th>8</th>\n",
       "      <td>Driver Inattention/Distraction</td>\n",
       "      <td>61752</td>\n",
       "    </tr>\n",
       "    <tr>\n",
       "      <th>14</th>\n",
       "      <td>Failure to Yield Right-of-Way</td>\n",
       "      <td>19641</td>\n",
       "    </tr>\n",
       "    <tr>\n",
       "      <th>17</th>\n",
       "      <td>Following Too Closely</td>\n",
       "      <td>17293</td>\n",
       "    </tr>\n",
       "    <tr>\n",
       "      <th>4</th>\n",
       "      <td>Backing Unsafely</td>\n",
       "      <td>14835</td>\n",
       "    </tr>\n",
       "  </tbody>\n",
       "</table>\n",
       "</div>"
      ],
      "text/plain": [
       "                           Factors  Total_Factors\n",
       "50                     Unspecified         190096\n",
       "8   Driver Inattention/Distraction          61752\n",
       "14   Failure to Yield Right-of-Way          19641\n",
       "17           Following Too Closely          17293\n",
       "4                 Backing Unsafely          14835"
      ]
     },
     "execution_count": 19,
     "metadata": {},
     "output_type": "execute_result"
    }
   ],
   "source": [
    "concat_table = pd.concat([df['CONTRIBUTING FACTOR VEHICLE 1'], df['CONTRIBUTING FACTOR VEHICLE 2'], df['CONTRIBUTING FACTOR VEHICLE 3'], df['CONTRIBUTING FACTOR VEHICLE 4'], df['CONTRIBUTING FACTOR VEHICLE 5']]).reset_index()\n",
    "concat_table = concat_table.dropna()\n",
    "concat_table.columns = ['Index', 'Factors']\n",
    "concat_table = concat_table.drop_duplicates([\"Index\", \"Factors\"])\n",
    "final_table = concat_table.groupby(['Factors'])['Index'].agg({'Total_Factors':'count'}).reset_index()\n",
    "final_table = final_table.sort_values(by ='Total_Factors' , ascending=False)\n",
    "final_table.head()"
   ]
  },
  {
   "cell_type": "markdown",
   "metadata": {},
   "source": [
    "<h3>Exercise 10 :</h3>\n",
    "<p>Which vehicle types are most involved in accidents per borough? Avoid double counting the type of vehicles present in a single accident. </p>\n",
    "<p><strong>Hint:</strong> You can apply a similar approach to the one used in the previous question.</p>"
   ]
  },
  {
   "cell_type": "markdown",
   "metadata": {
    "tags": [
     "ans_st"
    ]
   },
   "source": [
    "**Answer.**"
   ]
  },
  {
   "cell_type": "code",
   "execution_count": 20,
   "metadata": {},
   "outputs": [
    {
     "name": "stderr",
     "output_type": "stream",
     "text": [
      "/opt/conda/lib/python3.6/site-packages/ipykernel_launcher.py:7: FutureWarning: using a dict on a Series for aggregation\n",
      "is deprecated and will be removed in a future version\n",
      "  import sys\n"
     ]
    },
    {
     "data": {
      "text/html": [
       "<div>\n",
       "<style scoped>\n",
       "    .dataframe tbody tr th:only-of-type {\n",
       "        vertical-align: middle;\n",
       "    }\n",
       "\n",
       "    .dataframe tbody tr th {\n",
       "        vertical-align: top;\n",
       "    }\n",
       "\n",
       "    .dataframe thead th {\n",
       "        text-align: right;\n",
       "    }\n",
       "</style>\n",
       "<table border=\"1\" class=\"dataframe\">\n",
       "  <thead>\n",
       "    <tr style=\"text-align: right;\">\n",
       "      <th></th>\n",
       "      <th>BOROUGH</th>\n",
       "      <th>Vehicle_Type</th>\n",
       "      <th>Type_count</th>\n",
       "    </tr>\n",
       "  </thead>\n",
       "  <tbody>\n",
       "    <tr>\n",
       "      <th>510</th>\n",
       "      <td>BROOKLYN</td>\n",
       "      <td>Sedan</td>\n",
       "      <td>39459</td>\n",
       "    </tr>\n",
       "    <tr>\n",
       "      <th>1161</th>\n",
       "      <td>QUEENS</td>\n",
       "      <td>Sedan</td>\n",
       "      <td>35103</td>\n",
       "    </tr>\n",
       "    <tr>\n",
       "      <th>518</th>\n",
       "      <td>BROOKLYN</td>\n",
       "      <td>Station Wagon/Sport Utility Vehicle</td>\n",
       "      <td>32262</td>\n",
       "    </tr>\n",
       "    <tr>\n",
       "      <th>1165</th>\n",
       "      <td>QUEENS</td>\n",
       "      <td>Station Wagon/Sport Utility Vehicle</td>\n",
       "      <td>31647</td>\n",
       "    </tr>\n",
       "    <tr>\n",
       "      <th>866</th>\n",
       "      <td>MANHATTAN</td>\n",
       "      <td>Sedan</td>\n",
       "      <td>20727</td>\n",
       "    </tr>\n",
       "    <tr>\n",
       "      <th>181</th>\n",
       "      <td>BRONX</td>\n",
       "      <td>Sedan</td>\n",
       "      <td>19652</td>\n",
       "    </tr>\n",
       "    <tr>\n",
       "      <th>871</th>\n",
       "      <td>MANHATTAN</td>\n",
       "      <td>Station Wagon/Sport Utility Vehicle</td>\n",
       "      <td>16432</td>\n",
       "    </tr>\n",
       "    <tr>\n",
       "      <th>185</th>\n",
       "      <td>BRONX</td>\n",
       "      <td>Station Wagon/Sport Utility Vehicle</td>\n",
       "      <td>15434</td>\n",
       "    </tr>\n",
       "    <tr>\n",
       "      <th>459</th>\n",
       "      <td>BROOKLYN</td>\n",
       "      <td>PASSENGER VEHICLE</td>\n",
       "      <td>10177</td>\n",
       "    </tr>\n",
       "    <tr>\n",
       "      <th>889</th>\n",
       "      <td>MANHATTAN</td>\n",
       "      <td>Taxi</td>\n",
       "      <td>8989</td>\n",
       "    </tr>\n",
       "    <tr>\n",
       "      <th>1127</th>\n",
       "      <td>QUEENS</td>\n",
       "      <td>PASSENGER VEHICLE</td>\n",
       "      <td>8952</td>\n",
       "    </tr>\n",
       "    <tr>\n",
       "      <th>498</th>\n",
       "      <td>BROOKLYN</td>\n",
       "      <td>SPORT UTILITY / STATION WAGON</td>\n",
       "      <td>8099</td>\n",
       "    </tr>\n",
       "    <tr>\n",
       "      <th>1154</th>\n",
       "      <td>QUEENS</td>\n",
       "      <td>SPORT UTILITY / STATION WAGON</td>\n",
       "      <td>7890</td>\n",
       "    </tr>\n",
       "    <tr>\n",
       "      <th>823</th>\n",
       "      <td>MANHATTAN</td>\n",
       "      <td>PASSENGER VEHICLE</td>\n",
       "      <td>5627</td>\n",
       "    </tr>\n",
       "    <tr>\n",
       "      <th>146</th>\n",
       "      <td>BRONX</td>\n",
       "      <td>PASSENGER VEHICLE</td>\n",
       "      <td>4941</td>\n",
       "    </tr>\n",
       "    <tr>\n",
       "      <th>1327</th>\n",
       "      <td>STATEN ISLAND</td>\n",
       "      <td>Sedan</td>\n",
       "      <td>4773</td>\n",
       "    </tr>\n",
       "    <tr>\n",
       "      <th>856</th>\n",
       "      <td>MANHATTAN</td>\n",
       "      <td>SPORT UTILITY / STATION WAGON</td>\n",
       "      <td>4415</td>\n",
       "    </tr>\n",
       "    <tr>\n",
       "      <th>174</th>\n",
       "      <td>BRONX</td>\n",
       "      <td>SPORT UTILITY / STATION WAGON</td>\n",
       "      <td>3751</td>\n",
       "    </tr>\n",
       "    <tr>\n",
       "      <th>687</th>\n",
       "      <td>MANHATTAN</td>\n",
       "      <td>Box Truck</td>\n",
       "      <td>3545</td>\n",
       "    </tr>\n",
       "    <tr>\n",
       "      <th>1330</th>\n",
       "      <td>STATEN ISLAND</td>\n",
       "      <td>Station Wagon/Sport Utility Vehicle</td>\n",
       "      <td>3371</td>\n",
       "    </tr>\n",
       "    <tr>\n",
       "      <th>471</th>\n",
       "      <td>BROOKLYN</td>\n",
       "      <td>Pick-up Truck</td>\n",
       "      <td>3195</td>\n",
       "    </tr>\n",
       "    <tr>\n",
       "      <th>1136</th>\n",
       "      <td>QUEENS</td>\n",
       "      <td>Pick-up Truck</td>\n",
       "      <td>3119</td>\n",
       "    </tr>\n",
       "    <tr>\n",
       "      <th>874</th>\n",
       "      <td>MANHATTAN</td>\n",
       "      <td>TAXI</td>\n",
       "      <td>2965</td>\n",
       "    </tr>\n",
       "    <tr>\n",
       "      <th>322</th>\n",
       "      <td>BROOKLYN</td>\n",
       "      <td>Box Truck</td>\n",
       "      <td>2367</td>\n",
       "    </tr>\n",
       "    <tr>\n",
       "      <th>320</th>\n",
       "      <td>BROOKLYN</td>\n",
       "      <td>Bike</td>\n",
       "      <td>2354</td>\n",
       "    </tr>\n",
       "    <tr>\n",
       "      <th>837</th>\n",
       "      <td>MANHATTAN</td>\n",
       "      <td>Pick-up Truck</td>\n",
       "      <td>2343</td>\n",
       "    </tr>\n",
       "    <tr>\n",
       "      <th>538</th>\n",
       "      <td>BROOKLYN</td>\n",
       "      <td>Taxi</td>\n",
       "      <td>2164</td>\n",
       "    </tr>\n",
       "    <tr>\n",
       "      <th>685</th>\n",
       "      <td>MANHATTAN</td>\n",
       "      <td>Bike</td>\n",
       "      <td>2060</td>\n",
       "    </tr>\n",
       "    <tr>\n",
       "      <th>690</th>\n",
       "      <td>MANHATTAN</td>\n",
       "      <td>Bus</td>\n",
       "      <td>1837</td>\n",
       "    </tr>\n",
       "    <tr>\n",
       "      <th>325</th>\n",
       "      <td>BROOKLYN</td>\n",
       "      <td>Bus</td>\n",
       "      <td>1808</td>\n",
       "    </tr>\n",
       "    <tr>\n",
       "      <th>...</th>\n",
       "      <td>...</td>\n",
       "      <td>...</td>\n",
       "      <td>...</td>\n",
       "    </tr>\n",
       "    <tr>\n",
       "      <th>741</th>\n",
       "      <td>MANHATTAN</td>\n",
       "      <td>FLAT</td>\n",
       "      <td>1</td>\n",
       "    </tr>\n",
       "    <tr>\n",
       "      <th>742</th>\n",
       "      <td>MANHATTAN</td>\n",
       "      <td>FLATB</td>\n",
       "      <td>1</td>\n",
       "    </tr>\n",
       "    <tr>\n",
       "      <th>748</th>\n",
       "      <td>MANHATTAN</td>\n",
       "      <td>FREIG</td>\n",
       "      <td>1</td>\n",
       "    </tr>\n",
       "    <tr>\n",
       "      <th>705</th>\n",
       "      <td>MANHATTAN</td>\n",
       "      <td>Cargo</td>\n",
       "      <td>1</td>\n",
       "    </tr>\n",
       "    <tr>\n",
       "      <th>704</th>\n",
       "      <td>MANHATTAN</td>\n",
       "      <td>CRANE</td>\n",
       "      <td>1</td>\n",
       "    </tr>\n",
       "    <tr>\n",
       "      <th>703</th>\n",
       "      <td>MANHATTAN</td>\n",
       "      <td>COURI</td>\n",
       "      <td>1</td>\n",
       "    </tr>\n",
       "    <tr>\n",
       "      <th>682</th>\n",
       "      <td>MANHATTAN</td>\n",
       "      <td>Barri</td>\n",
       "      <td>1</td>\n",
       "    </tr>\n",
       "    <tr>\n",
       "      <th>664</th>\n",
       "      <td>MANHATTAN</td>\n",
       "      <td>ARMOR</td>\n",
       "      <td>1</td>\n",
       "    </tr>\n",
       "    <tr>\n",
       "      <th>668</th>\n",
       "      <td>MANHATTAN</td>\n",
       "      <td>B5-44</td>\n",
       "      <td>1</td>\n",
       "    </tr>\n",
       "    <tr>\n",
       "      <th>671</th>\n",
       "      <td>MANHATTAN</td>\n",
       "      <td>BK</td>\n",
       "      <td>1</td>\n",
       "    </tr>\n",
       "    <tr>\n",
       "      <th>672</th>\n",
       "      <td>MANHATTAN</td>\n",
       "      <td>BOB C</td>\n",
       "      <td>1</td>\n",
       "    </tr>\n",
       "    <tr>\n",
       "      <th>673</th>\n",
       "      <td>MANHATTAN</td>\n",
       "      <td>BOBCA</td>\n",
       "      <td>1</td>\n",
       "    </tr>\n",
       "    <tr>\n",
       "      <th>674</th>\n",
       "      <td>MANHATTAN</td>\n",
       "      <td>BOX</td>\n",
       "      <td>1</td>\n",
       "    </tr>\n",
       "    <tr>\n",
       "      <th>677</th>\n",
       "      <td>MANHATTAN</td>\n",
       "      <td>BROOM</td>\n",
       "      <td>1</td>\n",
       "    </tr>\n",
       "    <tr>\n",
       "      <th>116</th>\n",
       "      <td>BRONX</td>\n",
       "      <td>MH</td>\n",
       "      <td>1</td>\n",
       "    </tr>\n",
       "    <tr>\n",
       "      <th>680</th>\n",
       "      <td>MANHATTAN</td>\n",
       "      <td>BULLD</td>\n",
       "      <td>1</td>\n",
       "    </tr>\n",
       "    <tr>\n",
       "      <th>681</th>\n",
       "      <td>MANHATTAN</td>\n",
       "      <td>Backh</td>\n",
       "      <td>1</td>\n",
       "    </tr>\n",
       "    <tr>\n",
       "      <th>684</th>\n",
       "      <td>MANHATTAN</td>\n",
       "      <td>Bicyc</td>\n",
       "      <td>1</td>\n",
       "    </tr>\n",
       "    <tr>\n",
       "      <th>702</th>\n",
       "      <td>MANHATTAN</td>\n",
       "      <td>COUPE</td>\n",
       "      <td>1</td>\n",
       "    </tr>\n",
       "    <tr>\n",
       "      <th>1</th>\n",
       "      <td>BRONX</td>\n",
       "      <td>38AB-</td>\n",
       "      <td>1</td>\n",
       "    </tr>\n",
       "    <tr>\n",
       "      <th>686</th>\n",
       "      <td>MANHATTAN</td>\n",
       "      <td>Boom</td>\n",
       "      <td>1</td>\n",
       "    </tr>\n",
       "    <tr>\n",
       "      <th>688</th>\n",
       "      <td>MANHATTAN</td>\n",
       "      <td>Bucke</td>\n",
       "      <td>1</td>\n",
       "    </tr>\n",
       "    <tr>\n",
       "      <th>113</th>\n",
       "      <td>BRONX</td>\n",
       "      <td>MAIL</td>\n",
       "      <td>1</td>\n",
       "    </tr>\n",
       "    <tr>\n",
       "      <th>691</th>\n",
       "      <td>MANHATTAN</td>\n",
       "      <td>CART</td>\n",
       "      <td>1</td>\n",
       "    </tr>\n",
       "    <tr>\n",
       "      <th>693</th>\n",
       "      <td>MANHATTAN</td>\n",
       "      <td>CHART</td>\n",
       "      <td>1</td>\n",
       "    </tr>\n",
       "    <tr>\n",
       "      <th>696</th>\n",
       "      <td>MANHATTAN</td>\n",
       "      <td>COM.</td>\n",
       "      <td>1</td>\n",
       "    </tr>\n",
       "    <tr>\n",
       "      <th>699</th>\n",
       "      <td>MANHATTAN</td>\n",
       "      <td>CONST</td>\n",
       "      <td>1</td>\n",
       "    </tr>\n",
       "    <tr>\n",
       "      <th>700</th>\n",
       "      <td>MANHATTAN</td>\n",
       "      <td>CONT</td>\n",
       "      <td>1</td>\n",
       "    </tr>\n",
       "    <tr>\n",
       "      <th>112</th>\n",
       "      <td>BRONX</td>\n",
       "      <td>MACK</td>\n",
       "      <td>1</td>\n",
       "    </tr>\n",
       "    <tr>\n",
       "      <th>1369</th>\n",
       "      <td>STATEN ISLAND</td>\n",
       "      <td>van t</td>\n",
       "      <td>1</td>\n",
       "    </tr>\n",
       "  </tbody>\n",
       "</table>\n",
       "<p>1370 rows × 3 columns</p>\n",
       "</div>"
      ],
      "text/plain": [
       "            BOROUGH                         Vehicle_Type  Type_count\n",
       "510        BROOKLYN                                Sedan       39459\n",
       "1161         QUEENS                                Sedan       35103\n",
       "518        BROOKLYN  Station Wagon/Sport Utility Vehicle       32262\n",
       "1165         QUEENS  Station Wagon/Sport Utility Vehicle       31647\n",
       "866       MANHATTAN                                Sedan       20727\n",
       "181           BRONX                                Sedan       19652\n",
       "871       MANHATTAN  Station Wagon/Sport Utility Vehicle       16432\n",
       "185           BRONX  Station Wagon/Sport Utility Vehicle       15434\n",
       "459        BROOKLYN                    PASSENGER VEHICLE       10177\n",
       "889       MANHATTAN                                 Taxi        8989\n",
       "1127         QUEENS                    PASSENGER VEHICLE        8952\n",
       "498        BROOKLYN        SPORT UTILITY / STATION WAGON        8099\n",
       "1154         QUEENS        SPORT UTILITY / STATION WAGON        7890\n",
       "823       MANHATTAN                    PASSENGER VEHICLE        5627\n",
       "146           BRONX                    PASSENGER VEHICLE        4941\n",
       "1327  STATEN ISLAND                                Sedan        4773\n",
       "856       MANHATTAN        SPORT UTILITY / STATION WAGON        4415\n",
       "174           BRONX        SPORT UTILITY / STATION WAGON        3751\n",
       "687       MANHATTAN                            Box Truck        3545\n",
       "1330  STATEN ISLAND  Station Wagon/Sport Utility Vehicle        3371\n",
       "471        BROOKLYN                        Pick-up Truck        3195\n",
       "1136         QUEENS                        Pick-up Truck        3119\n",
       "874       MANHATTAN                                 TAXI        2965\n",
       "322        BROOKLYN                            Box Truck        2367\n",
       "320        BROOKLYN                                 Bike        2354\n",
       "837       MANHATTAN                        Pick-up Truck        2343\n",
       "538        BROOKLYN                                 Taxi        2164\n",
       "685       MANHATTAN                                 Bike        2060\n",
       "690       MANHATTAN                                  Bus        1837\n",
       "325        BROOKLYN                                  Bus        1808\n",
       "...             ...                                  ...         ...\n",
       "741       MANHATTAN                                 FLAT           1\n",
       "742       MANHATTAN                                FLATB           1\n",
       "748       MANHATTAN                                FREIG           1\n",
       "705       MANHATTAN                                Cargo           1\n",
       "704       MANHATTAN                                CRANE           1\n",
       "703       MANHATTAN                                COURI           1\n",
       "682       MANHATTAN                                Barri           1\n",
       "664       MANHATTAN                                ARMOR           1\n",
       "668       MANHATTAN                                B5-44           1\n",
       "671       MANHATTAN                                   BK           1\n",
       "672       MANHATTAN                                BOB C           1\n",
       "673       MANHATTAN                                BOBCA           1\n",
       "674       MANHATTAN                                  BOX           1\n",
       "677       MANHATTAN                                BROOM           1\n",
       "116           BRONX                                   MH           1\n",
       "680       MANHATTAN                                BULLD           1\n",
       "681       MANHATTAN                                Backh           1\n",
       "684       MANHATTAN                                Bicyc           1\n",
       "702       MANHATTAN                                COUPE           1\n",
       "1             BRONX                                38AB-           1\n",
       "686       MANHATTAN                                 Boom           1\n",
       "688       MANHATTAN                                Bucke           1\n",
       "113           BRONX                                 MAIL           1\n",
       "691       MANHATTAN                                 CART           1\n",
       "693       MANHATTAN                                CHART           1\n",
       "696       MANHATTAN                                 COM.           1\n",
       "699       MANHATTAN                                CONST           1\n",
       "700       MANHATTAN                                 CONT           1\n",
       "112           BRONX                                 MACK           1\n",
       "1369  STATEN ISLAND                                van t           1\n",
       "\n",
       "[1370 rows x 3 columns]"
      ]
     },
     "execution_count": 20,
     "metadata": {},
     "output_type": "execute_result"
    }
   ],
   "source": [
    "concat_table_borough = pd.concat([df['BOROUGH'], df['BOROUGH'], df['BOROUGH'], df['BOROUGH'], df['BOROUGH']]).reset_index()\n",
    "concat_table_vehicle = pd.concat([df['VEHICLE TYPE CODE 1'], df['VEHICLE TYPE CODE 2'], df['VEHICLE TYPE CODE 3'], df['VEHICLE TYPE CODE 4'], df['VEHICLE TYPE CODE 5']]).reset_index()\n",
    "concat_table_vehicle.columns = ['Index', 'Vehicle_Type']\n",
    "concat_table_vehicle['BOROUGH'] = concat_table_borough['BOROUGH'].values\n",
    "final_table_vehicle_borough = concat_table_vehicle.dropna()\n",
    "final_table_vehicle_borough = final_table_vehicle_borough.drop_duplicates([\"Index\", \"Vehicle_Type\"])\n",
    "final_table_vehicle_borough_grp = final_table_vehicle_borough.groupby(['BOROUGH', 'Vehicle_Type'])['Index'].agg({'Type_count':'count'}).reset_index()\n",
    "final_table_vehicle_borough_grp = final_table_vehicle_borough_grp.sort_values(by ='Type_count' , ascending=False)\n",
    "final_table_vehicle_borough_grp"
   ]
  },
  {
   "cell_type": "markdown",
   "metadata": {},
   "source": [
    "From the above table we can see that the maximum values are:\n",
    "    Brookling Sedan 39459\n",
    "    Queens Sedan 35103\n",
    "    Manhatan Sedan 20727\n",
    "    Bronx Sedan 19652\n",
    "    Staten Island Sedan 4773"
   ]
  },
  {
   "cell_type": "markdown",
   "metadata": {},
   "source": [
    "<h3>Exercise 11 :</h3>\n",
    "<p>In a 2018 <a href=\"https://www.nytimes.com/2019/01/01/nyregion/traffic-deaths-decrease-nyc.html\">interview</a> with The New York Times, New York's mayor de Blasio stated that <em>'Vision Zero is clearly working'</em>. That year, the number of deaths in traffic accidents in NYC dropped to a historical 202. Yet, as reported by <a href=\"https://www.amny.com/news/vision-zero-de-blasio-1-30707464/\">am New York Metro</a>, the number of fatalities has increased by 30% in the first quarter of 2019 compared to the previous year and the number of pedestrians and cyclist injured has not seen any improvement.</p>\n",
    "<p>How would you use the provided data to understand what went wrong in the first quarter of 2019?</p>\n",
    "<blockquote>\n",
    "<ul>\n",
    "<li>\n",
    "<p>[ ] Consider the accidents of the first quarter of 2019. Then, check for the most common causes of accidents where pedestrians and cyclists were involved. Give a recommendation based solely on this information. </p>\n",
    "</li>\n",
    "<li>\n",
    "<p>[ ] Create a pair of heatmaps of the accidents involving injured/killed pedestrians and cyclists in the first quarter of 2018 and 2019. Compare these two to see if there is any change in the concentration of accidents. In critical areas, study the type of factors involved in the accidents. Give a recommendation to visit these areas to study the problem further.    </p>\n",
    "</li>\n",
    "<li>\n",
    "<p>[ ] The provided data is insufficient to improve our understanding of the situation.</p>\n",
    "</li>\n",
    "<li>\n",
    "<p>[X] None of the above. I would do the following: <em>here your recommended answer</em>.</p>\n",
    "</li>\n",
    "</ul>\n",
    "</blockquote>"
   ]
  },
  {
   "cell_type": "markdown",
   "metadata": {
    "tags": [
     "ans_st"
    ]
   },
   "source": [
    "**Answer.**"
   ]
  },
  {
   "cell_type": "markdown",
   "metadata": {},
   "source": [
    "I will propose to invest more in technology that can identify the root cause of the accident becuase as we can see in the results 190096 times the reason of the accident was \"Unespecified\", this is more than 3 times the second most common reason that is \"Driver Inattention/Distraction\", then it is not worthy to invest in pedestrian refuge islands or more cycle traks, if the driver is distracted.\n",
    "\n",
    "We can analize for each borough what are the most dangerous factors that can cause deaths"
   ]
  },
  {
   "cell_type": "code",
   "execution_count": 21,
   "metadata": {
    "scrolled": true
   },
   "outputs": [
    {
     "data": {
      "text/html": [
       "<div>\n",
       "<style scoped>\n",
       "    .dataframe tbody tr th:only-of-type {\n",
       "        vertical-align: middle;\n",
       "    }\n",
       "\n",
       "    .dataframe tbody tr th {\n",
       "        vertical-align: top;\n",
       "    }\n",
       "\n",
       "    .dataframe thead th {\n",
       "        text-align: right;\n",
       "    }\n",
       "</style>\n",
       "<table border=\"1\" class=\"dataframe\">\n",
       "  <thead>\n",
       "    <tr style=\"text-align: right;\">\n",
       "      <th></th>\n",
       "      <th>BOROUGH</th>\n",
       "      <th>Factor_type</th>\n",
       "      <th>KILLS</th>\n",
       "    </tr>\n",
       "  </thead>\n",
       "  <tbody>\n",
       "    <tr>\n",
       "      <th>104</th>\n",
       "      <td>BROOKLYN</td>\n",
       "      <td>Unspecified</td>\n",
       "      <td>49</td>\n",
       "    </tr>\n",
       "    <tr>\n",
       "      <th>213</th>\n",
       "      <td>QUEENS</td>\n",
       "      <td>Unspecified</td>\n",
       "      <td>40</td>\n",
       "    </tr>\n",
       "    <tr>\n",
       "      <th>177</th>\n",
       "      <td>QUEENS</td>\n",
       "      <td>Failure to Yield Right-of-Way</td>\n",
       "      <td>20</td>\n",
       "    </tr>\n",
       "    <tr>\n",
       "      <th>50</th>\n",
       "      <td>BRONX</td>\n",
       "      <td>Unspecified</td>\n",
       "      <td>16</td>\n",
       "    </tr>\n",
       "    <tr>\n",
       "      <th>159</th>\n",
       "      <td>MANHATTAN</td>\n",
       "      <td>Unspecified</td>\n",
       "      <td>16</td>\n",
       "    </tr>\n",
       "    <tr>\n",
       "      <th>69</th>\n",
       "      <td>BROOKLYN</td>\n",
       "      <td>Failure to Yield Right-of-Way</td>\n",
       "      <td>13</td>\n",
       "    </tr>\n",
       "    <tr>\n",
       "      <th>63</th>\n",
       "      <td>BROOKLYN</td>\n",
       "      <td>Driver Inattention/Distraction</td>\n",
       "      <td>12</td>\n",
       "    </tr>\n",
       "    <tr>\n",
       "      <th>117</th>\n",
       "      <td>MANHATTAN</td>\n",
       "      <td>Driver Inattention/Distraction</td>\n",
       "      <td>8</td>\n",
       "    </tr>\n",
       "    <tr>\n",
       "      <th>212</th>\n",
       "      <td>QUEENS</td>\n",
       "      <td>Unsafe Speed</td>\n",
       "      <td>8</td>\n",
       "    </tr>\n",
       "    <tr>\n",
       "      <th>209</th>\n",
       "      <td>QUEENS</td>\n",
       "      <td>Traffic Control Disregarded</td>\n",
       "      <td>8</td>\n",
       "    </tr>\n",
       "    <tr>\n",
       "      <th>123</th>\n",
       "      <td>MANHATTAN</td>\n",
       "      <td>Failure to Yield Right-of-Way</td>\n",
       "      <td>8</td>\n",
       "    </tr>\n",
       "    <tr>\n",
       "      <th>103</th>\n",
       "      <td>BROOKLYN</td>\n",
       "      <td>Unsafe Speed</td>\n",
       "      <td>7</td>\n",
       "    </tr>\n",
       "    <tr>\n",
       "      <th>264</th>\n",
       "      <td>STATEN ISLAND</td>\n",
       "      <td>Unspecified</td>\n",
       "      <td>7</td>\n",
       "    </tr>\n",
       "    <tr>\n",
       "      <th>100</th>\n",
       "      <td>BROOKLYN</td>\n",
       "      <td>Traffic Control Disregarded</td>\n",
       "      <td>5</td>\n",
       "    </tr>\n",
       "    <tr>\n",
       "      <th>14</th>\n",
       "      <td>BRONX</td>\n",
       "      <td>Failure to Yield Right-of-Way</td>\n",
       "      <td>5</td>\n",
       "    </tr>\n",
       "    <tr>\n",
       "      <th>171</th>\n",
       "      <td>QUEENS</td>\n",
       "      <td>Driver Inattention/Distraction</td>\n",
       "      <td>4</td>\n",
       "    </tr>\n",
       "    <tr>\n",
       "      <th>198</th>\n",
       "      <td>QUEENS</td>\n",
       "      <td>Pedestrian/Bicyclist/Other Pedestrian Error/Co...</td>\n",
       "      <td>4</td>\n",
       "    </tr>\n",
       "    <tr>\n",
       "      <th>8</th>\n",
       "      <td>BRONX</td>\n",
       "      <td>Driver Inattention/Distraction</td>\n",
       "      <td>4</td>\n",
       "    </tr>\n",
       "    <tr>\n",
       "      <th>64</th>\n",
       "      <td>BROOKLYN</td>\n",
       "      <td>Driver Inexperience</td>\n",
       "      <td>4</td>\n",
       "    </tr>\n",
       "    <tr>\n",
       "      <th>186</th>\n",
       "      <td>QUEENS</td>\n",
       "      <td>Lost Consciousness</td>\n",
       "      <td>4</td>\n",
       "    </tr>\n",
       "    <tr>\n",
       "      <th>158</th>\n",
       "      <td>MANHATTAN</td>\n",
       "      <td>Unsafe Speed</td>\n",
       "      <td>3</td>\n",
       "    </tr>\n",
       "    <tr>\n",
       "      <th>113</th>\n",
       "      <td>MANHATTAN</td>\n",
       "      <td>Backing Unsafely</td>\n",
       "      <td>3</td>\n",
       "    </tr>\n",
       "    <tr>\n",
       "      <th>75</th>\n",
       "      <td>BROOKLYN</td>\n",
       "      <td>Illnes</td>\n",
       "      <td>3</td>\n",
       "    </tr>\n",
       "    <tr>\n",
       "      <th>78</th>\n",
       "      <td>BROOKLYN</td>\n",
       "      <td>Lost Consciousness</td>\n",
       "      <td>2</td>\n",
       "    </tr>\n",
       "    <tr>\n",
       "      <th>237</th>\n",
       "      <td>STATEN ISLAND</td>\n",
       "      <td>Illnes</td>\n",
       "      <td>2</td>\n",
       "    </tr>\n",
       "    <tr>\n",
       "      <th>90</th>\n",
       "      <td>BROOKLYN</td>\n",
       "      <td>Pedestrian/Bicyclist/Other Pedestrian Error/Co...</td>\n",
       "      <td>2</td>\n",
       "    </tr>\n",
       "    <tr>\n",
       "      <th>93</th>\n",
       "      <td>BROOKLYN</td>\n",
       "      <td>Reaction to Uninvolved Vehicle</td>\n",
       "      <td>2</td>\n",
       "    </tr>\n",
       "    <tr>\n",
       "      <th>59</th>\n",
       "      <td>BROOKLYN</td>\n",
       "      <td>Backing Unsafely</td>\n",
       "      <td>2</td>\n",
       "    </tr>\n",
       "    <tr>\n",
       "      <th>101</th>\n",
       "      <td>BROOKLYN</td>\n",
       "      <td>Turning Improperly</td>\n",
       "      <td>2</td>\n",
       "    </tr>\n",
       "    <tr>\n",
       "      <th>111</th>\n",
       "      <td>MANHATTAN</td>\n",
       "      <td>Alcohol Involvement</td>\n",
       "      <td>2</td>\n",
       "    </tr>\n",
       "    <tr>\n",
       "      <th>...</th>\n",
       "      <td>...</td>\n",
       "      <td>...</td>\n",
       "      <td>...</td>\n",
       "    </tr>\n",
       "    <tr>\n",
       "      <th>118</th>\n",
       "      <td>MANHATTAN</td>\n",
       "      <td>Driver Inexperience</td>\n",
       "      <td>0</td>\n",
       "    </tr>\n",
       "    <tr>\n",
       "      <th>115</th>\n",
       "      <td>MANHATTAN</td>\n",
       "      <td>Cell Phone (hand-Held)</td>\n",
       "      <td>0</td>\n",
       "    </tr>\n",
       "    <tr>\n",
       "      <th>77</th>\n",
       "      <td>BROOKLYN</td>\n",
       "      <td>Listening/Using Headphones</td>\n",
       "      <td>0</td>\n",
       "    </tr>\n",
       "    <tr>\n",
       "      <th>114</th>\n",
       "      <td>MANHATTAN</td>\n",
       "      <td>Brakes Defective</td>\n",
       "      <td>0</td>\n",
       "    </tr>\n",
       "    <tr>\n",
       "      <th>79</th>\n",
       "      <td>BROOKLYN</td>\n",
       "      <td>Obstruction/Debris</td>\n",
       "      <td>0</td>\n",
       "    </tr>\n",
       "    <tr>\n",
       "      <th>80</th>\n",
       "      <td>BROOKLYN</td>\n",
       "      <td>Other Electronic Device</td>\n",
       "      <td>0</td>\n",
       "    </tr>\n",
       "    <tr>\n",
       "      <th>81</th>\n",
       "      <td>BROOKLYN</td>\n",
       "      <td>Other Lighting Defects</td>\n",
       "      <td>0</td>\n",
       "    </tr>\n",
       "    <tr>\n",
       "      <th>83</th>\n",
       "      <td>BROOKLYN</td>\n",
       "      <td>Outside Car Distraction</td>\n",
       "      <td>0</td>\n",
       "    </tr>\n",
       "    <tr>\n",
       "      <th>84</th>\n",
       "      <td>BROOKLYN</td>\n",
       "      <td>Oversized Vehicle</td>\n",
       "      <td>0</td>\n",
       "    </tr>\n",
       "    <tr>\n",
       "      <th>85</th>\n",
       "      <td>BROOKLYN</td>\n",
       "      <td>Passenger Distraction</td>\n",
       "      <td>0</td>\n",
       "    </tr>\n",
       "    <tr>\n",
       "      <th>86</th>\n",
       "      <td>BROOKLYN</td>\n",
       "      <td>Passing Too Closely</td>\n",
       "      <td>0</td>\n",
       "    </tr>\n",
       "    <tr>\n",
       "      <th>87</th>\n",
       "      <td>BROOKLYN</td>\n",
       "      <td>Passing or Lane Usage Improper</td>\n",
       "      <td>0</td>\n",
       "    </tr>\n",
       "    <tr>\n",
       "      <th>88</th>\n",
       "      <td>BROOKLYN</td>\n",
       "      <td>Pavement Defective</td>\n",
       "      <td>0</td>\n",
       "    </tr>\n",
       "    <tr>\n",
       "      <th>89</th>\n",
       "      <td>BROOKLYN</td>\n",
       "      <td>Pavement Slippery</td>\n",
       "      <td>0</td>\n",
       "    </tr>\n",
       "    <tr>\n",
       "      <th>91</th>\n",
       "      <td>BROOKLYN</td>\n",
       "      <td>Physical Disability</td>\n",
       "      <td>0</td>\n",
       "    </tr>\n",
       "    <tr>\n",
       "      <th>92</th>\n",
       "      <td>BROOKLYN</td>\n",
       "      <td>Prescription Medication</td>\n",
       "      <td>0</td>\n",
       "    </tr>\n",
       "    <tr>\n",
       "      <th>94</th>\n",
       "      <td>BROOKLYN</td>\n",
       "      <td>Steering Failure</td>\n",
       "      <td>0</td>\n",
       "    </tr>\n",
       "    <tr>\n",
       "      <th>95</th>\n",
       "      <td>BROOKLYN</td>\n",
       "      <td>Texting</td>\n",
       "      <td>0</td>\n",
       "    </tr>\n",
       "    <tr>\n",
       "      <th>96</th>\n",
       "      <td>BROOKLYN</td>\n",
       "      <td>Tinted Windows</td>\n",
       "      <td>0</td>\n",
       "    </tr>\n",
       "    <tr>\n",
       "      <th>97</th>\n",
       "      <td>BROOKLYN</td>\n",
       "      <td>Tire Failure/Inadequate</td>\n",
       "      <td>0</td>\n",
       "    </tr>\n",
       "    <tr>\n",
       "      <th>98</th>\n",
       "      <td>BROOKLYN</td>\n",
       "      <td>Tow Hitch Defective</td>\n",
       "      <td>0</td>\n",
       "    </tr>\n",
       "    <tr>\n",
       "      <th>99</th>\n",
       "      <td>BROOKLYN</td>\n",
       "      <td>Traffic Control Device Improper/Non-Working</td>\n",
       "      <td>0</td>\n",
       "    </tr>\n",
       "    <tr>\n",
       "      <th>102</th>\n",
       "      <td>BROOKLYN</td>\n",
       "      <td>Unsafe Lane Changing</td>\n",
       "      <td>0</td>\n",
       "    </tr>\n",
       "    <tr>\n",
       "      <th>105</th>\n",
       "      <td>BROOKLYN</td>\n",
       "      <td>Using On Board Navigation Device</td>\n",
       "      <td>0</td>\n",
       "    </tr>\n",
       "    <tr>\n",
       "      <th>106</th>\n",
       "      <td>BROOKLYN</td>\n",
       "      <td>Vehicle Vandalism</td>\n",
       "      <td>0</td>\n",
       "    </tr>\n",
       "    <tr>\n",
       "      <th>108</th>\n",
       "      <td>BROOKLYN</td>\n",
       "      <td>Windshield Inadequate</td>\n",
       "      <td>0</td>\n",
       "    </tr>\n",
       "    <tr>\n",
       "      <th>109</th>\n",
       "      <td>MANHATTAN</td>\n",
       "      <td>Accelerator Defective</td>\n",
       "      <td>0</td>\n",
       "    </tr>\n",
       "    <tr>\n",
       "      <th>110</th>\n",
       "      <td>MANHATTAN</td>\n",
       "      <td>Aggressive Driving/Road Rage</td>\n",
       "      <td>0</td>\n",
       "    </tr>\n",
       "    <tr>\n",
       "      <th>112</th>\n",
       "      <td>MANHATTAN</td>\n",
       "      <td>Animals Action</td>\n",
       "      <td>0</td>\n",
       "    </tr>\n",
       "    <tr>\n",
       "      <th>133</th>\n",
       "      <td>MANHATTAN</td>\n",
       "      <td>Obstruction/Debris</td>\n",
       "      <td>0</td>\n",
       "    </tr>\n",
       "  </tbody>\n",
       "</table>\n",
       "<p>267 rows × 3 columns</p>\n",
       "</div>"
      ],
      "text/plain": [
       "           BOROUGH                                        Factor_type  KILLS\n",
       "104       BROOKLYN                                        Unspecified     49\n",
       "213         QUEENS                                        Unspecified     40\n",
       "177         QUEENS                      Failure to Yield Right-of-Way     20\n",
       "50           BRONX                                        Unspecified     16\n",
       "159      MANHATTAN                                        Unspecified     16\n",
       "69        BROOKLYN                      Failure to Yield Right-of-Way     13\n",
       "63        BROOKLYN                     Driver Inattention/Distraction     12\n",
       "117      MANHATTAN                     Driver Inattention/Distraction      8\n",
       "212         QUEENS                                       Unsafe Speed      8\n",
       "209         QUEENS                        Traffic Control Disregarded      8\n",
       "123      MANHATTAN                      Failure to Yield Right-of-Way      8\n",
       "103       BROOKLYN                                       Unsafe Speed      7\n",
       "264  STATEN ISLAND                                        Unspecified      7\n",
       "100       BROOKLYN                        Traffic Control Disregarded      5\n",
       "14           BRONX                      Failure to Yield Right-of-Way      5\n",
       "171         QUEENS                     Driver Inattention/Distraction      4\n",
       "198         QUEENS  Pedestrian/Bicyclist/Other Pedestrian Error/Co...      4\n",
       "8            BRONX                     Driver Inattention/Distraction      4\n",
       "64        BROOKLYN                                Driver Inexperience      4\n",
       "186         QUEENS                                 Lost Consciousness      4\n",
       "158      MANHATTAN                                       Unsafe Speed      3\n",
       "113      MANHATTAN                                   Backing Unsafely      3\n",
       "75        BROOKLYN                                             Illnes      3\n",
       "78        BROOKLYN                                 Lost Consciousness      2\n",
       "237  STATEN ISLAND                                             Illnes      2\n",
       "90        BROOKLYN  Pedestrian/Bicyclist/Other Pedestrian Error/Co...      2\n",
       "93        BROOKLYN                     Reaction to Uninvolved Vehicle      2\n",
       "59        BROOKLYN                                   Backing Unsafely      2\n",
       "101       BROOKLYN                                 Turning Improperly      2\n",
       "111      MANHATTAN                                Alcohol Involvement      2\n",
       "..             ...                                                ...    ...\n",
       "118      MANHATTAN                                Driver Inexperience      0\n",
       "115      MANHATTAN                             Cell Phone (hand-Held)      0\n",
       "77        BROOKLYN                         Listening/Using Headphones      0\n",
       "114      MANHATTAN                                   Brakes Defective      0\n",
       "79        BROOKLYN                                 Obstruction/Debris      0\n",
       "80        BROOKLYN                            Other Electronic Device      0\n",
       "81        BROOKLYN                             Other Lighting Defects      0\n",
       "83        BROOKLYN                            Outside Car Distraction      0\n",
       "84        BROOKLYN                                  Oversized Vehicle      0\n",
       "85        BROOKLYN                              Passenger Distraction      0\n",
       "86        BROOKLYN                                Passing Too Closely      0\n",
       "87        BROOKLYN                     Passing or Lane Usage Improper      0\n",
       "88        BROOKLYN                                 Pavement Defective      0\n",
       "89        BROOKLYN                                  Pavement Slippery      0\n",
       "91        BROOKLYN                                Physical Disability      0\n",
       "92        BROOKLYN                            Prescription Medication      0\n",
       "94        BROOKLYN                                   Steering Failure      0\n",
       "95        BROOKLYN                                            Texting      0\n",
       "96        BROOKLYN                                     Tinted Windows      0\n",
       "97        BROOKLYN                            Tire Failure/Inadequate      0\n",
       "98        BROOKLYN                                Tow Hitch Defective      0\n",
       "99        BROOKLYN        Traffic Control Device Improper/Non-Working      0\n",
       "102       BROOKLYN                               Unsafe Lane Changing      0\n",
       "105       BROOKLYN                   Using On Board Navigation Device      0\n",
       "106       BROOKLYN                                  Vehicle Vandalism      0\n",
       "108       BROOKLYN                              Windshield Inadequate      0\n",
       "109      MANHATTAN                              Accelerator Defective      0\n",
       "110      MANHATTAN                       Aggressive Driving/Road Rage      0\n",
       "112      MANHATTAN                                     Animals Action      0\n",
       "133      MANHATTAN                                 Obstruction/Debris      0\n",
       "\n",
       "[267 rows x 3 columns]"
      ]
     },
     "execution_count": 21,
     "metadata": {},
     "output_type": "execute_result"
    }
   ],
   "source": [
    "concat_table_borough = pd.concat([df['BOROUGH'], df['BOROUGH'], df['BOROUGH'], df['BOROUGH'], df['BOROUGH']]).reset_index()\n",
    "\n",
    "df['total_kills'] = df['NUMBER OF PEDESTRIANS KILLED'] + df['NUMBER OF CYCLIST KILLED'] + df['NUMBER OF MOTORIST KILLED'] \n",
    "concat_table_kills = pd.concat([df['total_kills'], df['total_kills'], df['total_kills'], df['total_kills'], df['total_kills']]).reset_index()\n",
    "concat_table_vehicle = pd.concat([df['CONTRIBUTING FACTOR VEHICLE 1'], df['CONTRIBUTING FACTOR VEHICLE 2'], df['CONTRIBUTING FACTOR VEHICLE 3'], df['CONTRIBUTING FACTOR VEHICLE 4'], df['CONTRIBUTING FACTOR VEHICLE 5']]).reset_index()\n",
    "concat_table_vehicle.columns = ['Index', 'Factor_type']\n",
    "concat_table_vehicle['KILLS'] = concat_table_kills['total_kills'].values\n",
    "concat_table_vehicle['BOROUGH'] = concat_table_borough['BOROUGH'].values\n",
    "final_table_vehicle_kills = concat_table_vehicle.dropna()\n",
    "final_table_vehicle_kills = final_table_vehicle_kills.drop_duplicates([\"Index\", \"Factor_type\"])\n",
    "final_table_vehicle_kills_grp = final_table_vehicle_kills.groupby(['BOROUGH','Factor_type']).KILLS.sum().reset_index()\n",
    "final_table_vehicle_kills_grp = final_table_vehicle_kills_grp.sort_values(by ='KILLS' , ascending=False)\n",
    "final_table_vehicle_kills_grp"
   ]
  },
  {
   "cell_type": "markdown",
   "metadata": {},
   "source": [
    "After this analysis we can focus defining safety plans for each borough\n",
    "\n",
    "BROOKLYN, QUEENS, BRONX - Focus on the cause \"Failure to Yield Right-of-Way\", implementing Warning Signs in the intersections were more accidents occured and work harder to find out the root cause of the accidents.\n",
    "\n",
    "MANHATTAN -Focus on the cause \"Driver Inattention/Distraction\" we can develop a camera inside the \n",
    "steering wheel that can always check the eyes of the driver, and depending on the speed of the vehicle, if the camera detects that the driver is distracted(no eye contact with the road) the camera can take actions like activating the breaks smoothly or give sound alerts inside the vehicle.\n",
    "\n",
    "STATEN ISLAND - Work harder to find out the root cause of the accidents.\n",
    "\n",
    "I believe that there is no system that can reduce accidents to zero but we can work on the severity of the accident reducing deaths to zero"
   ]
  },
  {
   "cell_type": "markdown",
   "metadata": {},
   "source": [
    "<h3>Exercise 12 :</h3>\n",
    "<p>Calculate the number of deaths caused by each type of vehicle. Plot a bar chart for the top 5 vehicles. Which vehicles are most often involved in deaths, and by how much more than the others?</p>\n",
    "<p><strong>For example,</strong> if two people died at an accident where 5 vehicles were involved: 4 are PASSENGER VEHICLE and 1 is a SPORT UTILITY/STATION WAGON. Then, we would add two deaths to each PASSENGER VEHICLE and SPORT UTILITY/STATION WAGON types.</p>\n",
    "<p><strong>Hint:</strong> You may want to create a new column with the total number of kills in the accident. For that you may find the function <code>.to_numpy()</code> useful. Then, proceed as the previous excercises to avoid double-counting the type of vehicles. </p>"
   ]
  },
  {
   "cell_type": "markdown",
   "metadata": {
    "tags": [
     "ans_st"
    ]
   },
   "source": [
    "**Answer.**"
   ]
  },
  {
   "cell_type": "code",
   "execution_count": 22,
   "metadata": {},
   "outputs": [
    {
     "data": {
      "text/html": [
       "<div>\n",
       "<style scoped>\n",
       "    .dataframe tbody tr th:only-of-type {\n",
       "        vertical-align: middle;\n",
       "    }\n",
       "\n",
       "    .dataframe tbody tr th {\n",
       "        vertical-align: top;\n",
       "    }\n",
       "\n",
       "    .dataframe thead th {\n",
       "        text-align: right;\n",
       "    }\n",
       "</style>\n",
       "<table border=\"1\" class=\"dataframe\">\n",
       "  <thead>\n",
       "    <tr style=\"text-align: right;\">\n",
       "      <th></th>\n",
       "      <th>DATE</th>\n",
       "      <th>TIME</th>\n",
       "      <th>BOROUGH</th>\n",
       "      <th>ZIP CODE</th>\n",
       "      <th>LATITUDE</th>\n",
       "      <th>LONGITUDE</th>\n",
       "      <th>ON STREET NAME</th>\n",
       "      <th>NUMBER OF PEDESTRIANS INJURED</th>\n",
       "      <th>NUMBER OF PEDESTRIANS KILLED</th>\n",
       "      <th>NUMBER OF CYCLIST INJURED</th>\n",
       "      <th>...</th>\n",
       "      <th>CONTRIBUTING FACTOR VEHICLE 4</th>\n",
       "      <th>CONTRIBUTING FACTOR VEHICLE 5</th>\n",
       "      <th>COLLISION_ID</th>\n",
       "      <th>VEHICLE TYPE CODE 1</th>\n",
       "      <th>VEHICLE TYPE CODE 2</th>\n",
       "      <th>VEHICLE TYPE CODE 3</th>\n",
       "      <th>VEHICLE TYPE CODE 4</th>\n",
       "      <th>VEHICLE TYPE CODE 5</th>\n",
       "      <th>HOUR</th>\n",
       "      <th>total_kills</th>\n",
       "    </tr>\n",
       "  </thead>\n",
       "  <tbody>\n",
       "    <tr>\n",
       "      <th>237229</th>\n",
       "      <td>2018-01-01</td>\n",
       "      <td>2020-09-04 19:30:00</td>\n",
       "      <td>QUEENS</td>\n",
       "      <td>11432.0</td>\n",
       "      <td>40.708410</td>\n",
       "      <td>-73.80328</td>\n",
       "      <td>PARSONS BOULEVARD</td>\n",
       "      <td>0</td>\n",
       "      <td>0</td>\n",
       "      <td>0</td>\n",
       "      <td>...</td>\n",
       "      <td>NaN</td>\n",
       "      <td>NaN</td>\n",
       "      <td>3820560</td>\n",
       "      <td>PASSENGER VEHICLE</td>\n",
       "      <td>TAXI</td>\n",
       "      <td>NaN</td>\n",
       "      <td>NaN</td>\n",
       "      <td>NaN</td>\n",
       "      <td>19</td>\n",
       "      <td>0</td>\n",
       "    </tr>\n",
       "    <tr>\n",
       "      <th>230620</th>\n",
       "      <td>2018-01-01</td>\n",
       "      <td>2020-09-04 04:00:00</td>\n",
       "      <td>BROOKLYN</td>\n",
       "      <td>11212.0</td>\n",
       "      <td>40.659330</td>\n",
       "      <td>-73.92027</td>\n",
       "      <td>NaN</td>\n",
       "      <td>0</td>\n",
       "      <td>0</td>\n",
       "      <td>0</td>\n",
       "      <td>...</td>\n",
       "      <td>NaN</td>\n",
       "      <td>NaN</td>\n",
       "      <td>3821032</td>\n",
       "      <td>SPORT UTILITY / STATION WAGON</td>\n",
       "      <td>PASSENGER VEHICLE</td>\n",
       "      <td>NaN</td>\n",
       "      <td>NaN</td>\n",
       "      <td>NaN</td>\n",
       "      <td>4</td>\n",
       "      <td>0</td>\n",
       "    </tr>\n",
       "    <tr>\n",
       "      <th>235340</th>\n",
       "      <td>2018-01-01</td>\n",
       "      <td>2020-09-04 13:30:00</td>\n",
       "      <td>QUEENS</td>\n",
       "      <td>11372.0</td>\n",
       "      <td>40.747734</td>\n",
       "      <td>-73.88300</td>\n",
       "      <td>83 STREET</td>\n",
       "      <td>0</td>\n",
       "      <td>0</td>\n",
       "      <td>0</td>\n",
       "      <td>...</td>\n",
       "      <td>NaN</td>\n",
       "      <td>NaN</td>\n",
       "      <td>3821647</td>\n",
       "      <td>PASSENGER VEHICLE</td>\n",
       "      <td>NaN</td>\n",
       "      <td>NaN</td>\n",
       "      <td>NaN</td>\n",
       "      <td>NaN</td>\n",
       "      <td>13</td>\n",
       "      <td>0</td>\n",
       "    </tr>\n",
       "    <tr>\n",
       "      <th>230632</th>\n",
       "      <td>2018-01-01</td>\n",
       "      <td>2020-09-04 21:30:00</td>\n",
       "      <td>BROOKLYN</td>\n",
       "      <td>11234.0</td>\n",
       "      <td>40.619130</td>\n",
       "      <td>-73.92398</td>\n",
       "      <td>EAST 53 STREET</td>\n",
       "      <td>1</td>\n",
       "      <td>0</td>\n",
       "      <td>0</td>\n",
       "      <td>...</td>\n",
       "      <td>NaN</td>\n",
       "      <td>NaN</td>\n",
       "      <td>3821772</td>\n",
       "      <td>NaN</td>\n",
       "      <td>NaN</td>\n",
       "      <td>NaN</td>\n",
       "      <td>NaN</td>\n",
       "      <td>NaN</td>\n",
       "      <td>21</td>\n",
       "      <td>0</td>\n",
       "    </tr>\n",
       "    <tr>\n",
       "      <th>228737</th>\n",
       "      <td>2018-01-01</td>\n",
       "      <td>2020-09-04 17:36:00</td>\n",
       "      <td>QUEENS</td>\n",
       "      <td>11417.0</td>\n",
       "      <td>40.675060</td>\n",
       "      <td>-73.85148</td>\n",
       "      <td>PITKIN AVENUE</td>\n",
       "      <td>0</td>\n",
       "      <td>0</td>\n",
       "      <td>0</td>\n",
       "      <td>...</td>\n",
       "      <td>NaN</td>\n",
       "      <td>NaN</td>\n",
       "      <td>3819065</td>\n",
       "      <td>PASSENGER VEHICLE</td>\n",
       "      <td>PASSENGER VEHICLE</td>\n",
       "      <td>NaN</td>\n",
       "      <td>NaN</td>\n",
       "      <td>NaN</td>\n",
       "      <td>17</td>\n",
       "      <td>0</td>\n",
       "    </tr>\n",
       "  </tbody>\n",
       "</table>\n",
       "<p>5 rows × 26 columns</p>\n",
       "</div>"
      ],
      "text/plain": [
       "             DATE                TIME   BOROUGH  ZIP CODE   LATITUDE  \\\n",
       "237229 2018-01-01 2020-09-04 19:30:00    QUEENS   11432.0  40.708410   \n",
       "230620 2018-01-01 2020-09-04 04:00:00  BROOKLYN   11212.0  40.659330   \n",
       "235340 2018-01-01 2020-09-04 13:30:00    QUEENS   11372.0  40.747734   \n",
       "230632 2018-01-01 2020-09-04 21:30:00  BROOKLYN   11234.0  40.619130   \n",
       "228737 2018-01-01 2020-09-04 17:36:00    QUEENS   11417.0  40.675060   \n",
       "\n",
       "        LONGITUDE                    ON STREET NAME  \\\n",
       "237229  -73.80328  PARSONS BOULEVARD                  \n",
       "230620  -73.92027                               NaN   \n",
       "235340  -73.88300  83 STREET                          \n",
       "230632  -73.92398  EAST 53 STREET                     \n",
       "228737  -73.85148  PITKIN AVENUE                      \n",
       "\n",
       "        NUMBER OF PEDESTRIANS INJURED  NUMBER OF PEDESTRIANS KILLED  \\\n",
       "237229                              0                             0   \n",
       "230620                              0                             0   \n",
       "235340                              0                             0   \n",
       "230632                              1                             0   \n",
       "228737                              0                             0   \n",
       "\n",
       "        NUMBER OF CYCLIST INJURED     ...      CONTRIBUTING FACTOR VEHICLE 4  \\\n",
       "237229                          0     ...                                NaN   \n",
       "230620                          0     ...                                NaN   \n",
       "235340                          0     ...                                NaN   \n",
       "230632                          0     ...                                NaN   \n",
       "228737                          0     ...                                NaN   \n",
       "\n",
       "        CONTRIBUTING FACTOR VEHICLE 5  COLLISION_ID  \\\n",
       "237229                            NaN       3820560   \n",
       "230620                            NaN       3821032   \n",
       "235340                            NaN       3821647   \n",
       "230632                            NaN       3821772   \n",
       "228737                            NaN       3819065   \n",
       "\n",
       "                  VEHICLE TYPE CODE 1 VEHICLE TYPE CODE 2 VEHICLE TYPE CODE 3  \\\n",
       "237229              PASSENGER VEHICLE                TAXI                 NaN   \n",
       "230620  SPORT UTILITY / STATION WAGON   PASSENGER VEHICLE                 NaN   \n",
       "235340              PASSENGER VEHICLE                 NaN                 NaN   \n",
       "230632                            NaN                 NaN                 NaN   \n",
       "228737              PASSENGER VEHICLE   PASSENGER VEHICLE                 NaN   \n",
       "\n",
       "       VEHICLE TYPE CODE 4 VEHICLE TYPE CODE 5  HOUR total_kills  \n",
       "237229                 NaN                 NaN    19           0  \n",
       "230620                 NaN                 NaN     4           0  \n",
       "235340                 NaN                 NaN    13           0  \n",
       "230632                 NaN                 NaN    21           0  \n",
       "228737                 NaN                 NaN    17           0  \n",
       "\n",
       "[5 rows x 26 columns]"
      ]
     },
     "execution_count": 22,
     "metadata": {},
     "output_type": "execute_result"
    }
   ],
   "source": [
    "df.head()"
   ]
  },
  {
   "cell_type": "code",
   "execution_count": 23,
   "metadata": {
    "scrolled": false
   },
   "outputs": [
    {
     "data": {
      "text/html": [
       "<div>\n",
       "<style scoped>\n",
       "    .dataframe tbody tr th:only-of-type {\n",
       "        vertical-align: middle;\n",
       "    }\n",
       "\n",
       "    .dataframe tbody tr th {\n",
       "        vertical-align: top;\n",
       "    }\n",
       "\n",
       "    .dataframe thead th {\n",
       "        text-align: right;\n",
       "    }\n",
       "</style>\n",
       "<table border=\"1\" class=\"dataframe\">\n",
       "  <thead>\n",
       "    <tr style=\"text-align: right;\">\n",
       "      <th></th>\n",
       "      <th>Vehicle_Type</th>\n",
       "      <th>KILLS</th>\n",
       "    </tr>\n",
       "  </thead>\n",
       "  <tbody>\n",
       "    <tr>\n",
       "      <th>405</th>\n",
       "      <td>Station Wagon/Sport Utility Vehicle</td>\n",
       "      <td>87</td>\n",
       "    </tr>\n",
       "    <tr>\n",
       "      <th>395</th>\n",
       "      <td>Sedan</td>\n",
       "      <td>65</td>\n",
       "    </tr>\n",
       "    <tr>\n",
       "      <th>289</th>\n",
       "      <td>Motorcycle</td>\n",
       "      <td>22</td>\n",
       "    </tr>\n",
       "    <tr>\n",
       "      <th>318</th>\n",
       "      <td>PASSENGER VEHICLE</td>\n",
       "      <td>21</td>\n",
       "    </tr>\n",
       "    <tr>\n",
       "      <th>381</th>\n",
       "      <td>SPORT UTILITY / STATION WAGON</td>\n",
       "      <td>20</td>\n",
       "    </tr>\n",
       "  </tbody>\n",
       "</table>\n",
       "</div>"
      ],
      "text/plain": [
       "                            Vehicle_Type  KILLS\n",
       "405  Station Wagon/Sport Utility Vehicle     87\n",
       "395                                Sedan     65\n",
       "289                           Motorcycle     22\n",
       "318                    PASSENGER VEHICLE     21\n",
       "381        SPORT UTILITY / STATION WAGON     20"
      ]
     },
     "execution_count": 23,
     "metadata": {},
     "output_type": "execute_result"
    }
   ],
   "source": [
    "df['total_kills'] = df['NUMBER OF PEDESTRIANS KILLED'] + df['NUMBER OF CYCLIST KILLED'] + df['NUMBER OF MOTORIST KILLED'] \n",
    "concat_table_kills = pd.concat([df['total_kills'], df['total_kills'], df['total_kills'], df['total_kills'], df['total_kills']]).reset_index()\n",
    "concat_table_vehicle = pd.concat([df['VEHICLE TYPE CODE 1'], df['VEHICLE TYPE CODE 2'], df['VEHICLE TYPE CODE 3'], df['VEHICLE TYPE CODE 4'], df['VEHICLE TYPE CODE 5']]).reset_index()\n",
    "concat_table_vehicle.columns = ['Index', 'Vehicle_Type']\n",
    "concat_table_vehicle['KILLS'] = concat_table_kills['total_kills'].values\n",
    "final_table_vehicle_kills = concat_table_vehicle.dropna()\n",
    "final_table_vehicle_kills = final_table_vehicle_kills.drop_duplicates([\"Index\", \"Vehicle_Type\"])\n",
    "final_table_vehicle_kills_grp = final_table_vehicle_kills.groupby(['Vehicle_Type']).KILLS.sum().reset_index()\n",
    "final_table_vehicle_kills_grp = final_table_vehicle_kills_grp.sort_values(by ='KILLS' , ascending=False)\n",
    "final_table_vehicle_kills_grp.head()"
   ]
  }
 ],
 "metadata": {
  "kernelspec": {
   "display_name": "Python 3",
   "language": "python",
   "name": "python3"
  },
  "language_info": {
   "codemirror_mode": {
    "name": "ipython",
    "version": 3
   },
   "file_extension": ".py",
   "mimetype": "text/x-python",
   "name": "python",
   "nbconvert_exporter": "python",
   "pygments_lexer": "ipython3",
   "version": "3.6.7"
  }
 },
 "nbformat": 4,
 "nbformat_minor": 2
}
